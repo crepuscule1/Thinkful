{
 "cells": [
  {
   "cell_type": "code",
   "execution_count": 6,
   "metadata": {},
   "outputs": [],
   "source": [
    "import pandas as pd\n",
    "import numpy as np\n",
    "import scipy\n",
    "import matplotlib.pyplot as plt\n",
    "%matplotlib inline\n",
    "\n",
    "from sklearn import ensemble\n",
    "from sklearn import datasets\n",
    "from sklearn.utils import shuffle\n",
    "from sklearn.metrics import mean_squared_error\n",
    "\n",
    "from sklearn.grid_search import GridSearchCV\n",
    "from sklearn.ensemble import GradientBoostingClassifier"
   ]
  },
  {
   "cell_type": "code",
   "execution_count": 7,
   "metadata": {},
   "outputs": [],
   "source": [
    "df = pd.read_csv((\n",
    "    \"https://raw.githubusercontent.com/Thinkful-Ed/data-201-resources/\"\n",
    "    \"master/ESS_practice_data/ESSdata_Thinkful.csv\")).dropna()\n",
    "\n",
    "# Definine outcome and predictors.\n",
    "# Set our outcome to 0 and 1.\n",
    "y = df['partner'] - 1\n",
    "X = df.loc[:, ~df.columns.isin(['partner', 'cntry', 'idno'])]\n",
    "\n",
    "# Make the categorical variable 'country' into dummies.\n",
    "X = pd.concat([X, pd.get_dummies(df['cntry'])], axis=1)\n",
    "\n",
    "# Create training and test sets.\n",
    "offset = int(X.shape[0] * 0.9)\n",
    "\n",
    "# Put 90% of the data in the training set.\n",
    "X_train, y_train = X[:offset], y[:offset]\n",
    "\n",
    "# And put 10% in the test set.\n",
    "X_test, y_test = X[offset:], y[offset:]"
   ]
  },
  {
   "cell_type": "code",
   "execution_count": 31,
   "metadata": {},
   "outputs": [
    {
     "name": "stdout",
     "output_type": "stream",
     "text": [
      "Training set accuracy:\n",
      "Percent Type I errors: 0.04650845608292417\n",
      "Percent Type II errors: 0.17607746863066012\n",
      "\n",
      "Test set accuracy:\n",
      "Percent Type I errors: 0.06257668711656442\n",
      "Percent Type II errors: 0.18527607361963191\n"
     ]
    }
   ],
   "source": [
    "# We'll make 500 iterations, use 2-deep trees, and set our loss function.\n",
    "params = {'n_estimators': 500,\n",
    "          'max_depth': 2,\n",
    "          'loss': 'deviance'}\n",
    "\n",
    "# Initialize and fit the model.\n",
    "clf = ensemble.GradientBoostingClassifier(**params)\n",
    "clf.fit(X_train, y_train)\n",
    "\n",
    "predict_train = clf.predict(X_train)\n",
    "predict_test = clf.predict(X_test)\n",
    "\n",
    "# Accuracy tables.\n",
    "table_train = pd.crosstab(y_train, predict_train, margins=True)\n",
    "table_test = pd.crosstab(y_test, predict_test, margins=True)\n",
    "\n",
    "train_tI_errors = table_train.loc[0.0,1.0] / table_train.loc['All','All']\n",
    "train_tII_errors = table_train.loc[1.0,0.0] / table_train.loc['All','All']\n",
    "\n",
    "test_tI_errors = table_test.loc[0.0,1.0]/table_test.loc['All','All']\n",
    "test_tII_errors = table_test.loc[1.0,0.0]/table_test.loc['All','All']\n",
    "\n",
    "print((\n",
    "    'Training set accuracy:\\n'\n",
    "    'Percent Type I errors: {}\\n'\n",
    "    'Percent Type II errors: {}\\n\\n'\n",
    "    'Test set accuracy:\\n'\n",
    "    'Percent Type I errors: {}\\n'\n",
    "    'Percent Type II errors: {}'\n",
    ").format(train_tI_errors, train_tII_errors, test_tI_errors, test_tII_errors))\n"
   ]
  },
  {
   "cell_type": "code",
   "execution_count": 9,
   "metadata": {},
   "outputs": [
    {
     "data": {
      "image/png": "[encoded data removed]",
      "text/plain": [
       "<Figure size 432x288 with 1 Axes>"
      ]
     },
     "metadata": {},
     "output_type": "display_data"
    }
   ],
   "source": [
    "# We can get a measure of how important various features are by counting how many time a feature is used over the \n",
    "# course of many decision trees.\n",
    "\n",
    "feature_importance = clf.feature_importances_\n",
    "\n",
    "# Make importances relative to max importance.\n",
    "feature_importance = 100.0 * (feature_importance / feature_importance.max())\n",
    "sorted_idx = np.argsort(feature_importance)\n",
    "pos = np.arange(sorted_idx.shape[0]) + .5\n",
    "plt.subplot(1, 2, 2)\n",
    "plt.barh(pos, feature_importance[sorted_idx], align='center')\n",
    "plt.yticks(pos, X.columns[sorted_idx])\n",
    "plt.xlabel('Relative Importance')\n",
    "plt.title('Variable Importance')\n",
    "plt.show()"
   ]
  },
  {
   "cell_type": "markdown",
   "metadata": {},
   "source": [
    "**I discovered code that will help me tune parameters**"
   ]
  },
  {
   "cell_type": "code",
   "execution_count": 26,
   "metadata": {},
   "outputs": [
    {
     "data": {
      "text/plain": [
       "([mean: 0.75303, std: 0.01898, params: {'n_estimators': 250}],\n",
       " {'n_estimators': 250},\n",
       " 0.7530345112781791)"
      ]
     },
     "execution_count": 26,
     "metadata": {},
     "output_type": "execute_result"
    }
   ],
   "source": [
    "param_test1 = {'n_estimators':np.arange(250,500,700)}\n",
    "gsearch1 = GridSearchCV(estimator = GradientBoostingClassifier(learning_rate=0.5, min_samples_split=500,min_samples_leaf=50,max_depth=8,max_features='sqrt',subsample=0.8,random_state=10), \n",
    "param_grid = param_test1, scoring='roc_auc',n_jobs=4,iid=False, cv=5)\n",
    "gsearch1.fit(X_train, y_train)\n",
    "gsearch1.grid_scores_, gsearch1.best_params_, gsearch1.best_score_"
   ]
  },
  {
   "cell_type": "code",
   "execution_count": 28,
   "metadata": {},
   "outputs": [
    {
     "data": {
      "text/plain": [
       "([mean: 0.76510, std: 0.03779, params: {'max_depth': 5, 'min_samples_split': 200},\n",
       "  mean: 0.76881, std: 0.03271, params: {'max_depth': 5, 'min_samples_split': 400},\n",
       "  mean: 0.77172, std: 0.03439, params: {'max_depth': 5, 'min_samples_split': 600},\n",
       "  mean: 0.77484, std: 0.02993, params: {'max_depth': 5, 'min_samples_split': 800},\n",
       "  mean: 0.77472, std: 0.02879, params: {'max_depth': 5, 'min_samples_split': 1000},\n",
       "  mean: 0.76106, std: 0.02572, params: {'max_depth': 7, 'min_samples_split': 200},\n",
       "  mean: 0.76326, std: 0.03530, params: {'max_depth': 7, 'min_samples_split': 400},\n",
       "  mean: 0.76725, std: 0.03707, params: {'max_depth': 7, 'min_samples_split': 600},\n",
       "  mean: 0.77016, std: 0.03380, params: {'max_depth': 7, 'min_samples_split': 800},\n",
       "  mean: 0.77596, std: 0.03252, params: {'max_depth': 7, 'min_samples_split': 1000},\n",
       "  mean: 0.75736, std: 0.03453, params: {'max_depth': 9, 'min_samples_split': 200},\n",
       "  mean: 0.75715, std: 0.03925, params: {'max_depth': 9, 'min_samples_split': 400},\n",
       "  mean: 0.76329, std: 0.04012, params: {'max_depth': 9, 'min_samples_split': 600},\n",
       "  mean: 0.76918, std: 0.03645, params: {'max_depth': 9, 'min_samples_split': 800},\n",
       "  mean: 0.76984, std: 0.03347, params: {'max_depth': 9, 'min_samples_split': 1000},\n",
       "  mean: 0.75229, std: 0.03124, params: {'max_depth': 11, 'min_samples_split': 200},\n",
       "  mean: 0.75904, std: 0.03723, params: {'max_depth': 11, 'min_samples_split': 400},\n",
       "  mean: 0.76343, std: 0.04132, params: {'max_depth': 11, 'min_samples_split': 600},\n",
       "  mean: 0.76847, std: 0.03471, params: {'max_depth': 11, 'min_samples_split': 800},\n",
       "  mean: 0.77248, std: 0.03214, params: {'max_depth': 11, 'min_samples_split': 1000},\n",
       "  mean: 0.75387, std: 0.03616, params: {'max_depth': 13, 'min_samples_split': 200},\n",
       "  mean: 0.75881, std: 0.03725, params: {'max_depth': 13, 'min_samples_split': 400},\n",
       "  mean: 0.75922, std: 0.04243, params: {'max_depth': 13, 'min_samples_split': 600},\n",
       "  mean: 0.76552, std: 0.03295, params: {'max_depth': 13, 'min_samples_split': 800},\n",
       "  mean: 0.77021, std: 0.03145, params: {'max_depth': 13, 'min_samples_split': 1000},\n",
       "  mean: 0.75410, std: 0.03547, params: {'max_depth': 15, 'min_samples_split': 200},\n",
       "  mean: 0.75914, std: 0.03787, params: {'max_depth': 15, 'min_samples_split': 400},\n",
       "  mean: 0.76190, std: 0.03963, params: {'max_depth': 15, 'min_samples_split': 600},\n",
       "  mean: 0.76564, std: 0.03139, params: {'max_depth': 15, 'min_samples_split': 800},\n",
       "  mean: 0.77003, std: 0.02986, params: {'max_depth': 15, 'min_samples_split': 1000}],\n",
       " {'max_depth': 7, 'min_samples_split': 1000},\n",
       " 0.7759644668376732)"
      ]
     },
     "execution_count": 28,
     "metadata": {},
     "output_type": "execute_result"
    }
   ],
   "source": [
    "param_test2 = {'max_depth':np.arange(5,16,2), 'min_samples_split':np.arange(200,1001,200)}\n",
    "gsearch2 = GridSearchCV(estimator = GradientBoostingClassifier(learning_rate=0.1, n_estimators=250, max_features='sqrt', subsample=0.8, random_state=10), \n",
    "param_grid = param_test2, scoring='roc_auc',n_jobs=4,iid=False, cv=5)\n",
    "gsearch2.fit(X_train, y_train)\n",
    "gsearch2.grid_scores_, gsearch2.best_params_, gsearch2.best_score_"
   ]
  },
  {
   "cell_type": "code",
   "execution_count": 95,
   "metadata": {},
   "outputs": [
    {
     "name": "stdout",
     "output_type": "stream",
     "text": [
      "Training set accuracy:\n",
      "Percent Type I errors: 0.056601200218221494\n",
      "Percent Type II errors: 0.19094380796508456\n",
      "\n",
      "Test set accuracy:\n",
      "Percent Type I errors: 0.07484662576687116\n",
      "Percent Type II errors: 0.18773006134969325\n"
     ]
    }
   ],
   "source": [
    "\n",
    "params = {'n_estimators': 500,\n",
    "          'max_depth': 2,\n",
    "          'loss': 'deviance',\n",
    "         'subsample': .08,\n",
    "           'min_samples_split': 500,\n",
    "          'min_samples_leaf': 50,\n",
    "          'max_features':'sqrt'}\n",
    "\n",
    "\n",
    "# Initialize and fit the model.\n",
    "clf = ensemble.GradientBoostingClassifier(**params)\n",
    "clf.fit(X_train, y_train)\n",
    "\n",
    "predict_train = clf.predict(X_train)\n",
    "predict_test = clf.predict(X_test)\n",
    "\n",
    "# Accuracy tables.\n",
    "table_train = pd.crosstab(y_train, predict_train, margins=True)\n",
    "table_test = pd.crosstab(y_test, predict_test, margins=True)\n",
    "\n",
    "train_tI_errors = table_train.loc[0.0,1.0] / table_train.loc['All','All']\n",
    "train_tII_errors = table_train.loc[1.0,0.0] / table_train.loc['All','All']\n",
    "\n",
    "test_tI_errors = table_test.loc[0.0,1.0]/table_test.loc['All','All']\n",
    "test_tII_errors = table_test.loc[1.0,0.0]/table_test.loc['All','All']\n",
    "\n",
    "\n",
    "print((\n",
    "    'Training set accuracy:\\n'\n",
    "    'Percent Type I errors: {}\\n'\n",
    "    'Percent Type II errors: {}\\n\\n'\n",
    "    'Test set accuracy:\\n'\n",
    "    'Percent Type I errors: {}\\n'\n",
    "    'Percent Type II errors: {}'\n",
    ").format(train_tI_errors, train_tII_errors, test_tI_errors, test_tII_errors))\n"
   ]
  },
  {
   "cell_type": "code",
   "execution_count": 96,
   "metadata": {},
   "outputs": [
    {
     "data": {
      "image/png": "[encoded data removed]",
      "text/plain": [
       "<Figure size 432x288 with 1 Axes>"
      ]
     },
     "metadata": {},
     "output_type": "display_data"
    }
   ],
   "source": [
    "feature_importance = clf.feature_importances_\n",
    "\n",
    "# Make importances relative to max importance.\n",
    "feature_importance = 100.0 * (feature_importance / feature_importance.max())\n",
    "sorted_idx = np.argsort(feature_importance)\n",
    "pos = np.arange(sorted_idx.shape[0]) + .5\n",
    "plt.subplot(1, 2, 2)\n",
    "plt.barh(pos, feature_importance[sorted_idx], align='center')\n",
    "plt.yticks(pos, X.columns[sorted_idx])\n",
    "plt.xlabel('Relative Importance')\n",
    "plt.title('Variable Importance')\n",
    "plt.show()"
   ]
  },
  {
   "cell_type": "code",
   "execution_count": 97,
   "metadata": {},
   "outputs": [
    {
     "name": "stdout",
     "output_type": "stream",
     "text": [
      "Training set accuracy:\n",
      "Percent Type I errors: 0.04800872885979269\n",
      "Percent Type II errors: 0.1815330060010911\n",
      "\n",
      "Test set accuracy:\n",
      "Percent Type I errors: 0.05889570552147239\n",
      "Percent Type II errors: 0.18650306748466258\n"
     ]
    }
   ],
   "source": [
    "params = {'n_estimators': 500,\n",
    "          'max_depth': 2,\n",
    "          'loss': 'deviance',\n",
    "           'min_samples_split': 500,\n",
    "          'min_samples_leaf': 50,\n",
    "          'max_features':'sqrt'}\n",
    "\n",
    "\n",
    "# Initialize and fit the model.\n",
    "clf = ensemble.GradientBoostingClassifier(**params)\n",
    "clf.fit(X_train, y_train)\n",
    "\n",
    "predict_train = clf.predict(X_train)\n",
    "predict_test = clf.predict(X_test)\n",
    "\n",
    "# Accuracy tables.\n",
    "table_train = pd.crosstab(y_train, predict_train, margins=True)\n",
    "table_test = pd.crosstab(y_test, predict_test, margins=True)\n",
    "\n",
    "train_tI_errors = table_train.loc[0.0,1.0] / table_train.loc['All','All']\n",
    "train_tII_errors = table_train.loc[1.0,0.0] / table_train.loc['All','All']\n",
    "\n",
    "test_tI_errors = table_test.loc[0.0,1.0]/table_test.loc['All','All']\n",
    "test_tII_errors = table_test.loc[1.0,0.0]/table_test.loc['All','All']\n",
    "\n",
    "\n",
    "print((\n",
    "    'Training set accuracy:\\n'\n",
    "    'Percent Type I errors: {}\\n'\n",
    "    'Percent Type II errors: {}\\n\\n'\n",
    "    'Test set accuracy:\\n'\n",
    "    'Percent Type I errors: {}\\n'\n",
    "    'Percent Type II errors: {}'\n",
    ").format(train_tI_errors, train_tII_errors, test_tI_errors, test_tII_errors))\n",
    "\n"
   ]
  },
  {
   "cell_type": "code",
   "execution_count": 98,
   "metadata": {},
   "outputs": [
    {
     "data": {
      "image/png": "[encoded data removed]",
      "text/plain": [
       "<Figure size 432x288 with 1 Axes>"
      ]
     },
     "metadata": {},
     "output_type": "display_data"
    }
   ],
   "source": [
    "feature_importance = clf.feature_importances_\n",
    "\n",
    "# Make importances relative to max importance.\n",
    "feature_importance = 100.0 * (feature_importance / feature_importance.max())\n",
    "sorted_idx = np.argsort(feature_importance)\n",
    "pos = np.arange(sorted_idx.shape[0]) + .5\n",
    "plt.subplot(1, 2, 2)\n",
    "plt.barh(pos, feature_importance[sorted_idx], align='center')\n",
    "plt.yticks(pos, X.columns[sorted_idx])\n",
    "plt.xlabel('Relative Importance')\n",
    "plt.title('Variable Importance')\n",
    "plt.show()"
   ]
  },
  {
   "cell_type": "markdown",
   "metadata": {},
   "source": [
    "**Original:**\n",
    "\n",
    "**params = {'n_estimators': 500,\n",
    "          'max_depth': 2,\n",
    "          'loss': 'deviance'}**\n",
    "\n",
    "Training set accuracy:\n",
    "Percent Type I errors: 0.04650845608292417\n",
    "Percent Type II errors: 0.17607746863066012\n",
    "\n",
    "Test set accuracy:\n",
    "Percent Type I errors: 0.06257668711656442\n",
    "Percent Type II errors: 0.18527607361963191\n",
    "\n",
    "\n",
    "**I added 2 new parameters, subsample of .08 and max depth of 8 and the training and test set accuracy declined.**  \n",
    "\n",
    "Training set accuracy:\n",
    "Percent Type I errors: 0.25245499181669395\n",
    "Percent Type II errors: 0.18016912165848337\n",
    "\n",
    "Test set accuracy:\n",
    "Percent Type I errors: 0.10184049079754601\n",
    "Percent Type II errors: 0.2650306748466258\n",
    "\n",
    "**params = {'n_estimators': 500,\n",
    "          'max_depth': 9,\n",
    "          'loss': 'deviance',\n",
    "         'subsample': .08,\n",
    "         'min_samples_leaf': 60}**\n",
    "         \n",
    "      Training set accuracy:\n",
    "Percent Type I errors: 0.0641025641025641\n",
    "Percent Type II errors: 0.161620294599018\n",
    "\n",
    "Test set accuracy:\n",
    "Percent Type I errors: 0.1116564417177914\n",
    "Percent Type II errors: 0.1656441717791411   \n",
    "\n",
    "\n",
    "**params = {'n_estimators': 250,\n",
    "          'max_depth': 7,\n",
    "          'loss': 'deviance',\n",
    "         'subsample': .08,\n",
    "          'min_samples_split': 500,\n",
    "          'min_samples_leaf':50,\n",
    "          'max_features':'sqrt'}**\n",
    "\n",
    "\n",
    "Training set accuracy:\n",
    "Percent Type I errors: 0.045280960174577195\n",
    "Percent Type II errors: 0.20199127114020732\n",
    "\n",
    "Test set accuracy:\n",
    "Percent Type I errors: 0.053987730061349694\n",
    "Percent Type II errors: 0.2098159509202454\n",
    "\n",
    "\n",
    "**params = {'n_estimators': 500,\n",
    "          'max_depth': 2,\n",
    "          'loss': 'deviance',\n",
    "           'min_samples_split': 500,\n",
    "          'min_samples_leaf': 50,\n",
    "          'max_features':'sqrt'}**\n",
    "\n",
    "Training set accuracy:\n",
    "Percent Type I errors: 0.04800872885979269\n",
    "Percent Type II errors: 0.1815330060010911\n",
    "\n",
    "Test set accuracy:\n",
    "Percent Type I errors: 0.05889570552147239\n",
    "Percent Type II errors: 0.18650306748466258\n"
   ]
  },
  {
   "cell_type": "markdown",
   "metadata": {},
   "source": [
    "**I was unable to improve the test set accuracy but it by adding and adjusting parameters I was able to see differing results depending on values and parameters added.  The tuning mechanism that tests a range of values is a useful tool for estimating values of the parameters.** "
   ]
  }
 ],
 "metadata": {
  "kernelspec": {
   "display_name": "Python 3",
   "language": "python",
   "name": "python3"
  },
  "language_info": {
   "codemirror_mode": {
    "name": "ipython",
    "version": 3
   },
   "file_extension": ".py",
   "mimetype": "text/x-python",
   "name": "python",
   "nbconvert_exporter": "python",
   "pygments_lexer": "ipython3",
   "version": "3.6.5"
  }
 },
 "nbformat": 4,
 "nbformat_minor": 2
}
