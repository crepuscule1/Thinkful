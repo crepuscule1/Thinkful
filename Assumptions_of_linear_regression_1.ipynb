{
 "cells": [
  {
   "cell_type": "code",
   "execution_count": 1,
   "metadata": {},
   "outputs": [],
   "source": [
    "%matplotlib inline\n",
    "import numpy as np\n",
    "import pandas as pd\n",
    "import scipy\n",
    "import sklearn\n",
    "import matplotlib.pyplot as plt\n",
    "import seaborn as sns\n",
    "\n",
    "import math\n",
    "import warnings\n",
    "\n",
    "from IPython.display import display\n",
    "from sklearn import linear_model\n",
    "import statsmodels.formula.api as smf\n",
    "import statsmodels.api as sm\n",
    "\n",
    "pd.options.display.float_format = '{:.3f}'.format\n",
    "\n",
    "warnings.filterwarnings(\n",
    "    action=\"ignore\",\n",
    "    module=\"scipy\",\n",
    "    message=\"^internal gelsd\"\n",
    ")"
   ]
  },
  {
   "cell_type": "code",
   "execution_count": 2,
   "metadata": {},
   "outputs": [
    {
     "data": {
      "text/html": [
       "<div>\n",
       "<style scoped>\n",
       "    .dataframe tbody tr th:only-of-type {\n",
       "        vertical-align: middle;\n",
       "    }\n",
       "\n",
       "    .dataframe tbody tr th {\n",
       "        vertical-align: top;\n",
       "    }\n",
       "\n",
       "    .dataframe thead th {\n",
       "        text-align: right;\n",
       "    }\n",
       "</style>\n",
       "<table border=\"1\" class=\"dataframe\">\n",
       "  <thead>\n",
       "    <tr style=\"text-align: right;\">\n",
       "      <th></th>\n",
       "      <th>Unnamed: 0</th>\n",
       "      <th>TV</th>\n",
       "      <th>Radio</th>\n",
       "      <th>Newspaper</th>\n",
       "      <th>Sales</th>\n",
       "    </tr>\n",
       "  </thead>\n",
       "  <tbody>\n",
       "    <tr>\n",
       "      <th>0</th>\n",
       "      <td>1</td>\n",
       "      <td>230.100</td>\n",
       "      <td>37.800</td>\n",
       "      <td>69.200</td>\n",
       "      <td>22.100</td>\n",
       "    </tr>\n",
       "    <tr>\n",
       "      <th>1</th>\n",
       "      <td>2</td>\n",
       "      <td>44.500</td>\n",
       "      <td>39.300</td>\n",
       "      <td>45.100</td>\n",
       "      <td>10.400</td>\n",
       "    </tr>\n",
       "    <tr>\n",
       "      <th>2</th>\n",
       "      <td>3</td>\n",
       "      <td>17.200</td>\n",
       "      <td>45.900</td>\n",
       "      <td>69.300</td>\n",
       "      <td>9.300</td>\n",
       "    </tr>\n",
       "    <tr>\n",
       "      <th>3</th>\n",
       "      <td>4</td>\n",
       "      <td>151.500</td>\n",
       "      <td>41.300</td>\n",
       "      <td>58.500</td>\n",
       "      <td>18.500</td>\n",
       "    </tr>\n",
       "    <tr>\n",
       "      <th>4</th>\n",
       "      <td>5</td>\n",
       "      <td>180.800</td>\n",
       "      <td>10.800</td>\n",
       "      <td>58.400</td>\n",
       "      <td>12.900</td>\n",
       "    </tr>\n",
       "  </tbody>\n",
       "</table>\n",
       "</div>"
      ],
      "text/plain": [
       "   Unnamed: 0      TV  Radio  Newspaper  Sales\n",
       "0           1 230.100 37.800     69.200 22.100\n",
       "1           2  44.500 39.300     45.100 10.400\n",
       "2           3  17.200 45.900     69.300  9.300\n",
       "3           4 151.500 41.300     58.500 18.500\n",
       "4           5 180.800 10.800     58.400 12.900"
      ]
     },
     "metadata": {},
     "output_type": "display_data"
    }
   ],
   "source": [
    "data = pd.read_csv('https://tf-curricula-prod.s3.amazonaws.com/data-science/Advertising.csv')\n",
    "display(data.head())"
   ]
  },
  {
   "cell_type": "markdown",
   "metadata": {},
   "source": [
    "### Run model #1"
   ]
  },
  {
   "cell_type": "code",
   "execution_count": 3,
   "metadata": {},
   "outputs": [],
   "source": [
    "X = data[['TV', 'Radio', 'Newspaper']] \n",
    "y = data['Sales']"
   ]
  },
  {
   "cell_type": "code",
   "execution_count": 4,
   "metadata": {},
   "outputs": [
    {
     "name": "stdout",
     "output_type": "stream",
     "text": [
      "                            OLS Regression Results                            \n",
      "==============================================================================\n",
      "Dep. Variable:                  Sales   R-squared:                       0.982\n",
      "Model:                            OLS   Adj. R-squared:                  0.982\n",
      "Method:                 Least Squares   F-statistic:                     3566.\n",
      "Date:                Thu, 14 Mar 2019   Prob (F-statistic):          2.43e-171\n",
      "Time:                        09:09:52   Log-Likelihood:                -423.54\n",
      "No. Observations:                 200   AIC:                             853.1\n",
      "Df Residuals:                     197   BIC:                             863.0\n",
      "Df Model:                           3                                         \n",
      "Covariance Type:            nonrobust                                         \n",
      "==============================================================================\n",
      "                 coef    std err          t      P>|t|      [0.025      0.975]\n",
      "------------------------------------------------------------------------------\n",
      "TV             0.0538      0.001     40.507      0.000       0.051       0.056\n",
      "Radio          0.2222      0.009     23.595      0.000       0.204       0.241\n",
      "Newspaper      0.0168      0.007      2.517      0.013       0.004       0.030\n",
      "==============================================================================\n",
      "Omnibus:                        5.982   Durbin-Watson:                   2.038\n",
      "Prob(Omnibus):                  0.050   Jarque-Bera (JB):                7.039\n",
      "Skew:                          -0.232   Prob(JB):                       0.0296\n",
      "Kurtosis:                       3.794   Cond. No.                         12.6\n",
      "==============================================================================\n",
      "\n",
      "Warnings:\n",
      "[1] Standard Errors assume that the covariance matrix of the errors is correctly specified.\n",
      "0     21.941\n",
      "1     11.886\n",
      "2     12.291\n",
      "3     18.311\n",
      "4     13.108\n",
      "5     12.596\n",
      "6     10.777\n",
      "7     11.017\n",
      "8      0.946\n",
      "9     11.682\n",
      "10     5.252\n",
      "11    16.950\n",
      "12    10.189\n",
      "13     7.055\n",
      "14    19.064\n",
      "15    22.001\n",
      "16    13.698\n",
      "17    24.876\n",
      "18     8.586\n",
      "19    13.556\n",
      "20    18.802\n",
      "21    14.299\n",
      "22     5.078\n",
      "23    16.477\n",
      "24     6.459\n",
      "25    15.248\n",
      "26    14.410\n",
      "27    17.012\n",
      "28    19.791\n",
      "29     8.039\n",
      "       ...  \n",
      "170    5.577\n",
      "171   14.290\n",
      "172    5.807\n",
      "173   10.852\n",
      "174   12.939\n",
      "175   26.465\n",
      "176   20.415\n",
      "177   11.481\n",
      "178   15.794\n",
      "179   11.426\n",
      "180    9.141\n",
      "181   13.414\n",
      "182    4.789\n",
      "183   26.234\n",
      "184   18.890\n",
      "185   21.379\n",
      "186    8.418\n",
      "187   16.964\n",
      "188   18.536\n",
      "189    4.088\n",
      "190   11.356\n",
      "191    6.562\n",
      "192    2.368\n",
      "193   18.367\n",
      "194   16.065\n",
      "195    3.109\n",
      "196    6.292\n",
      "197   11.696\n",
      "198   25.702\n",
      "199   14.543\n",
      "Length: 200, dtype: float64\n"
     ]
    }
   ],
   "source": [
    "est = sm.OLS(y, X) \n",
    "estres = est.fit() \n",
    "print(estres.summary()) \n",
    "ypred = estres.predict(X) \n",
    "print(ypred)"
   ]
  },
  {
   "cell_type": "markdown",
   "metadata": {},
   "source": [
    "### P-value of Newspaper is > .05 therefore not statistically significant.  "
   ]
  },
  {
   "cell_type": "markdown",
   "metadata": {},
   "source": [
    "### Look at residuals (errors)"
   ]
  },
  {
   "cell_type": "code",
   "execution_count": 61,
   "metadata": {},
   "outputs": [],
   "source": [
    "actual = data['Sales']\n",
    "residual = actual - ypred"
   ]
  },
  {
   "cell_type": "code",
   "execution_count": 62,
   "metadata": {},
   "outputs": [
    {
     "name": "stdout",
     "output_type": "stream",
     "text": [
      "0      0.159\n",
      "1     -1.486\n",
      "2     -2.991\n",
      "3      0.189\n",
      "4     -0.208\n",
      "5     -5.396\n",
      "6      1.023\n",
      "7      2.183\n",
      "8      3.854\n",
      "9     -1.082\n",
      "10     3.348\n",
      "11     0.450\n",
      "12    -0.989\n",
      "13     2.645\n",
      "14    -0.064\n",
      "15     0.399\n",
      "16    -1.198\n",
      "17    -0.476\n",
      "18     2.714\n",
      "19     1.044\n",
      "20    -0.802\n",
      "21    -1.799\n",
      "22     0.522\n",
      "23    -0.977\n",
      "24     3.241\n",
      "25    -3.248\n",
      "26     0.590\n",
      "27    -1.112\n",
      "28    -0.891\n",
      "29     2.461\n",
      "       ...  \n",
      "170    2.823\n",
      "171    0.210\n",
      "172    1.793\n",
      "173    0.848\n",
      "174   -1.439\n",
      "175    0.535\n",
      "176   -0.215\n",
      "177    0.219\n",
      "178   -3.994\n",
      "179    1.174\n",
      "180    1.359\n",
      "181   -1.214\n",
      "182    3.911\n",
      "183   -0.034\n",
      "184   -1.290\n",
      "185    1.221\n",
      "186    1.882\n",
      "187    0.336\n",
      "188   -2.636\n",
      "189    2.612\n",
      "190   -0.556\n",
      "191    3.338\n",
      "192    3.532\n",
      "193    1.233\n",
      "194    1.235\n",
      "195    4.491\n",
      "196    3.408\n",
      "197    1.104\n",
      "198   -0.202\n",
      "199   -1.143\n",
      "Length: 200, dtype: float64\n"
     ]
    }
   ],
   "source": [
    "print(residual)"
   ]
  },
  {
   "cell_type": "markdown",
   "metadata": {},
   "source": [
    "### Plot the residuals"
   ]
  },
  {
   "cell_type": "code",
   "execution_count": 10,
   "metadata": {},
   "outputs": [
    {
     "data": {
      "image/png": "[encoded data removed]",
      "text/plain": [
       "<Figure size 432x288 with 1 Axes>"
      ]
     },
     "metadata": {},
     "output_type": "display_data"
    }
   ],
   "source": [
    "plt.hist(residual)\n",
    "plt.title('Residual counts')\n",
    "plt.xlabel('Residual')\n",
    "plt.ylabel('Count')\n",
    "plt.show()"
   ]
  },
  {
   "cell_type": "code",
   "execution_count": 12,
   "metadata": {},
   "outputs": [
    {
     "data": {
      "image/png": "[encoded data removed]",
      "text/plain": [
       "<Figure size 432x288 with 1 Axes>"
      ]
     },
     "metadata": {},
     "output_type": "display_data"
    }
   ],
   "source": [
    "plt.scatter(ypred, residual)\n",
    "plt.xlabel('Predicted')\n",
    "plt.ylabel('Residual')\n",
    "plt.axhline(y=0)\n",
    "plt.title('Residual vs. Predicted')\n",
    "plt.show()"
   ]
  },
  {
   "cell_type": "markdown",
   "metadata": {},
   "source": [
    "### Model #2 Remove Newspaper from the model"
   ]
  },
  {
   "cell_type": "code",
   "execution_count": 13,
   "metadata": {},
   "outputs": [
    {
     "name": "stdout",
     "output_type": "stream",
     "text": [
      "                            OLS Regression Results                            \n",
      "==============================================================================\n",
      "Dep. Variable:                  Sales   R-squared:                       0.981\n",
      "Model:                            OLS   Adj. R-squared:                  0.981\n",
      "Method:                 Least Squares   F-statistic:                     5206.\n",
      "Date:                Thu, 14 Mar 2019   Prob (F-statistic):          6.73e-172\n",
      "Time:                        09:13:58   Log-Likelihood:                -426.71\n",
      "No. Observations:                 200   AIC:                             857.4\n",
      "Df Residuals:                     198   BIC:                             864.0\n",
      "Df Model:                           2                                         \n",
      "Covariance Type:            nonrobust                                         \n",
      "==============================================================================\n",
      "                 coef    std err          t      P>|t|      [0.025      0.975]\n",
      "------------------------------------------------------------------------------\n",
      "TV             0.0548      0.001     42.962      0.000       0.052       0.057\n",
      "Radio          0.2356      0.008     29.909      0.000       0.220       0.251\n",
      "==============================================================================\n",
      "Omnibus:                        6.047   Durbin-Watson:                   2.080\n",
      "Prob(Omnibus):                  0.049   Jarque-Bera (JB):                8.829\n",
      "Skew:                          -0.112   Prob(JB):                       0.0121\n",
      "Kurtosis:                       4.005   Cond. No.                         9.37\n",
      "==============================================================================\n",
      "\n",
      "Warnings:\n",
      "[1] Standard Errors assume that the covariance matrix of the errors is correctly specified.\n",
      "0     21.527\n",
      "1     11.700\n",
      "2     11.758\n",
      "3     18.040\n",
      "4     12.461\n",
      "5     11.999\n",
      "6     10.882\n",
      "7     11.211\n",
      "8      0.966\n",
      "9     11.571\n",
      "10     4.992\n",
      "11    17.431\n",
      "12     9.575\n",
      "13     7.138\n",
      "14    18.946\n",
      "15    21.956\n",
      "16    12.342\n",
      "17    24.765\n",
      "18     8.626\n",
      "19    13.710\n",
      "20    18.505\n",
      "21    14.223\n",
      "22     4.470\n",
      "23    16.504\n",
      "24     6.386\n",
      "25    15.244\n",
      "26    14.741\n",
      "27    17.104\n",
      "28    20.031\n",
      "29     7.642\n",
      "       ...  \n",
      "170    5.476\n",
      "171   13.947\n",
      "172    5.811\n",
      "173   10.909\n",
      "174   12.999\n",
      "175   26.709\n",
      "176   20.740\n",
      "177   11.173\n",
      "178   15.719\n",
      "179   11.439\n",
      "180    9.202\n",
      "181   13.257\n",
      "182    4.425\n",
      "183   25.906\n",
      "184   18.939\n",
      "185   21.870\n",
      "186    8.146\n",
      "187   17.244\n",
      "188   18.962\n",
      "189    3.877\n",
      "190   11.850\n",
      "191    6.686\n",
      "192    1.909\n",
      "193   19.045\n",
      "194   16.599\n",
      "195    2.967\n",
      "196    6.321\n",
      "197   11.899\n",
      "198   25.451\n",
      "199   14.757\n",
      "Length: 200, dtype: float64\n"
     ]
    }
   ],
   "source": [
    "X_1 = data[['TV', 'Radio']] \n",
    "\n",
    "est = sm.OLS(y, X_1) \n",
    "estres = est.fit() \n",
    "print(estres.summary()) \n",
    "ypred_1 = estres.predict(X_1) \n",
    "print(ypred_1)"
   ]
  },
  {
   "cell_type": "markdown",
   "metadata": {},
   "source": [
    "### Look at residuals (errors)"
   ]
  },
  {
   "cell_type": "code",
   "execution_count": 15,
   "metadata": {},
   "outputs": [],
   "source": [
    "residual_1 = actual - ypred_1"
   ]
  },
  {
   "cell_type": "code",
   "execution_count": 16,
   "metadata": {},
   "outputs": [
    {
     "name": "stdout",
     "output_type": "stream",
     "text": [
      "0      0.573\n",
      "1     -1.300\n",
      "2     -2.458\n",
      "3      0.460\n",
      "4      0.439\n",
      "5     -4.799\n",
      "6      0.918\n",
      "7      1.989\n",
      "8      3.834\n",
      "9     -0.971\n",
      "10     3.608\n",
      "11    -0.031\n",
      "12    -0.375\n",
      "13     2.562\n",
      "14     0.054\n",
      "15     0.444\n",
      "16     0.158\n",
      "17    -0.365\n",
      "18     2.674\n",
      "19     0.890\n",
      "20    -0.505\n",
      "21    -1.723\n",
      "22     1.130\n",
      "23    -1.004\n",
      "24     3.314\n",
      "25    -3.244\n",
      "26     0.259\n",
      "27    -1.204\n",
      "28    -1.131\n",
      "29     2.858\n",
      "       ...  \n",
      "170    2.924\n",
      "171    0.553\n",
      "172    1.789\n",
      "173    0.791\n",
      "174   -1.499\n",
      "175    0.291\n",
      "176   -0.540\n",
      "177    0.527\n",
      "178   -3.919\n",
      "179    1.161\n",
      "180    1.298\n",
      "181   -1.057\n",
      "182    4.275\n",
      "183    0.294\n",
      "184   -1.339\n",
      "185    0.730\n",
      "186    2.154\n",
      "187    0.056\n",
      "188   -3.062\n",
      "189    2.823\n",
      "190   -1.050\n",
      "191    3.214\n",
      "192    3.991\n",
      "193    0.555\n",
      "194    0.701\n",
      "195    4.633\n",
      "196    3.379\n",
      "197    0.901\n",
      "198    0.049\n",
      "199   -1.357\n",
      "Length: 200, dtype: float64\n"
     ]
    }
   ],
   "source": [
    "print(residual_1)"
   ]
  },
  {
   "cell_type": "code",
   "execution_count": 17,
   "metadata": {},
   "outputs": [
    {
     "data": {
      "image/png": "[encoded data removed]",
      "text/plain": [
       "<Figure size 432x288 with 1 Axes>"
      ]
     },
     "metadata": {},
     "output_type": "display_data"
    }
   ],
   "source": [
    "plt.hist(residual_1)\n",
    "plt.title('Residual counts')\n",
    "plt.xlabel('Residual')\n",
    "plt.ylabel('Count')\n",
    "plt.show()"
   ]
  },
  {
   "cell_type": "code",
   "execution_count": 19,
   "metadata": {},
   "outputs": [
    {
     "data": {
      "image/png": "[encoded data removed]",
      "text/plain": [
       "<Figure size 432x288 with 1 Axes>"
      ]
     },
     "metadata": {},
     "output_type": "display_data"
    }
   ],
   "source": [
    "plt.scatter(ypred_1, residual_1)\n",
    "plt.xlabel('Predicted')\n",
    "plt.ylabel('Residual')\n",
    "plt.axhline(y=0)\n",
    "plt.title('Residual vs. Predicted')\n",
    "plt.show()"
   ]
  },
  {
   "cell_type": "markdown",
   "metadata": {},
   "source": [
    "### Finding outliers"
   ]
  },
  {
   "cell_type": "code",
   "execution_count": 20,
   "metadata": {},
   "outputs": [
    {
     "data": {
      "text/html": [
       "<div>\n",
       "<style scoped>\n",
       "    .dataframe tbody tr th:only-of-type {\n",
       "        vertical-align: middle;\n",
       "    }\n",
       "\n",
       "    .dataframe tbody tr th {\n",
       "        vertical-align: top;\n",
       "    }\n",
       "\n",
       "    .dataframe thead th {\n",
       "        text-align: right;\n",
       "    }\n",
       "</style>\n",
       "<table border=\"1\" class=\"dataframe\">\n",
       "  <thead>\n",
       "    <tr style=\"text-align: right;\">\n",
       "      <th></th>\n",
       "      <th>Unnamed: 0</th>\n",
       "      <th>TV</th>\n",
       "      <th>Radio</th>\n",
       "      <th>Newspaper</th>\n",
       "      <th>Sales</th>\n",
       "    </tr>\n",
       "  </thead>\n",
       "  <tbody>\n",
       "    <tr>\n",
       "      <th>count</th>\n",
       "      <td>200.000</td>\n",
       "      <td>200.000</td>\n",
       "      <td>200.000</td>\n",
       "      <td>200.000</td>\n",
       "      <td>200.000</td>\n",
       "    </tr>\n",
       "    <tr>\n",
       "      <th>mean</th>\n",
       "      <td>100.500</td>\n",
       "      <td>147.042</td>\n",
       "      <td>23.264</td>\n",
       "      <td>30.554</td>\n",
       "      <td>14.023</td>\n",
       "    </tr>\n",
       "    <tr>\n",
       "      <th>std</th>\n",
       "      <td>57.879</td>\n",
       "      <td>85.854</td>\n",
       "      <td>14.847</td>\n",
       "      <td>21.779</td>\n",
       "      <td>5.217</td>\n",
       "    </tr>\n",
       "    <tr>\n",
       "      <th>min</th>\n",
       "      <td>1.000</td>\n",
       "      <td>0.700</td>\n",
       "      <td>0.000</td>\n",
       "      <td>0.300</td>\n",
       "      <td>1.600</td>\n",
       "    </tr>\n",
       "    <tr>\n",
       "      <th>25%</th>\n",
       "      <td>50.750</td>\n",
       "      <td>74.375</td>\n",
       "      <td>9.975</td>\n",
       "      <td>12.750</td>\n",
       "      <td>10.375</td>\n",
       "    </tr>\n",
       "    <tr>\n",
       "      <th>50%</th>\n",
       "      <td>100.500</td>\n",
       "      <td>149.750</td>\n",
       "      <td>22.900</td>\n",
       "      <td>25.750</td>\n",
       "      <td>12.900</td>\n",
       "    </tr>\n",
       "    <tr>\n",
       "      <th>75%</th>\n",
       "      <td>150.250</td>\n",
       "      <td>218.825</td>\n",
       "      <td>36.525</td>\n",
       "      <td>45.100</td>\n",
       "      <td>17.400</td>\n",
       "    </tr>\n",
       "    <tr>\n",
       "      <th>max</th>\n",
       "      <td>200.000</td>\n",
       "      <td>296.400</td>\n",
       "      <td>49.600</td>\n",
       "      <td>114.000</td>\n",
       "      <td>27.000</td>\n",
       "    </tr>\n",
       "  </tbody>\n",
       "</table>\n",
       "</div>"
      ],
      "text/plain": [
       "       Unnamed: 0      TV   Radio  Newspaper   Sales\n",
       "count     200.000 200.000 200.000    200.000 200.000\n",
       "mean      100.500 147.042  23.264     30.554  14.023\n",
       "std        57.879  85.854  14.847     21.779   5.217\n",
       "min         1.000   0.700   0.000      0.300   1.600\n",
       "25%        50.750  74.375   9.975     12.750  10.375\n",
       "50%       100.500 149.750  22.900     25.750  12.900\n",
       "75%       150.250 218.825  36.525     45.100  17.400\n",
       "max       200.000 296.400  49.600    114.000  27.000"
      ]
     },
     "execution_count": 20,
     "metadata": {},
     "output_type": "execute_result"
    }
   ],
   "source": [
    "data.describe()"
   ]
  },
  {
   "cell_type": "code",
   "execution_count": 21,
   "metadata": {},
   "outputs": [
    {
     "data": {
      "text/plain": [
       "261.44"
      ]
     },
     "execution_count": 21,
     "metadata": {},
     "output_type": "execute_result"
    }
   ],
   "source": [
    "np.percentile(data.TV, 90)"
   ]
  },
  {
   "cell_type": "code",
   "execution_count": 22,
   "metadata": {},
   "outputs": [],
   "source": [
    "data['TV_outlier'] = np.where(data.TV >= 261.44, 1,0)"
   ]
  },
  {
   "cell_type": "code",
   "execution_count": 23,
   "metadata": {},
   "outputs": [
    {
     "data": {
      "text/html": [
       "<div>\n",
       "<style scoped>\n",
       "    .dataframe tbody tr th:only-of-type {\n",
       "        vertical-align: middle;\n",
       "    }\n",
       "\n",
       "    .dataframe tbody tr th {\n",
       "        vertical-align: top;\n",
       "    }\n",
       "\n",
       "    .dataframe thead th {\n",
       "        text-align: right;\n",
       "    }\n",
       "</style>\n",
       "<table border=\"1\" class=\"dataframe\">\n",
       "  <thead>\n",
       "    <tr style=\"text-align: right;\">\n",
       "      <th></th>\n",
       "      <th>TV</th>\n",
       "      <th>TV_outlier</th>\n",
       "    </tr>\n",
       "  </thead>\n",
       "  <tbody>\n",
       "    <tr>\n",
       "      <th>0</th>\n",
       "      <td>230.100</td>\n",
       "      <td>0</td>\n",
       "    </tr>\n",
       "    <tr>\n",
       "      <th>1</th>\n",
       "      <td>44.500</td>\n",
       "      <td>0</td>\n",
       "    </tr>\n",
       "    <tr>\n",
       "      <th>2</th>\n",
       "      <td>17.200</td>\n",
       "      <td>0</td>\n",
       "    </tr>\n",
       "    <tr>\n",
       "      <th>3</th>\n",
       "      <td>151.500</td>\n",
       "      <td>0</td>\n",
       "    </tr>\n",
       "    <tr>\n",
       "      <th>4</th>\n",
       "      <td>180.800</td>\n",
       "      <td>0</td>\n",
       "    </tr>\n",
       "  </tbody>\n",
       "</table>\n",
       "</div>"
      ],
      "text/plain": [
       "       TV  TV_outlier\n",
       "0 230.100           0\n",
       "1  44.500           0\n",
       "2  17.200           0\n",
       "3 151.500           0\n",
       "4 180.800           0"
      ]
     },
     "execution_count": 23,
     "metadata": {},
     "output_type": "execute_result"
    }
   ],
   "source": [
    "data[['TV', 'TV_outlier']].head()"
   ]
  },
  {
   "cell_type": "code",
   "execution_count": 24,
   "metadata": {},
   "outputs": [
    {
     "data": {
      "text/plain": [
       "43.519999999999996"
      ]
     },
     "execution_count": 24,
     "metadata": {},
     "output_type": "execute_result"
    }
   ],
   "source": [
    "np.percentile(data.Radio, 90)"
   ]
  },
  {
   "cell_type": "code",
   "execution_count": 25,
   "metadata": {},
   "outputs": [],
   "source": [
    "data['Radio_outlier'] = np.where(data.Radio >= 43.51, 1,0)"
   ]
  },
  {
   "cell_type": "code",
   "execution_count": 26,
   "metadata": {},
   "outputs": [
    {
     "data": {
      "text/html": [
       "<div>\n",
       "<style scoped>\n",
       "    .dataframe tbody tr th:only-of-type {\n",
       "        vertical-align: middle;\n",
       "    }\n",
       "\n",
       "    .dataframe tbody tr th {\n",
       "        vertical-align: top;\n",
       "    }\n",
       "\n",
       "    .dataframe thead th {\n",
       "        text-align: right;\n",
       "    }\n",
       "</style>\n",
       "<table border=\"1\" class=\"dataframe\">\n",
       "  <thead>\n",
       "    <tr style=\"text-align: right;\">\n",
       "      <th></th>\n",
       "      <th>Radio</th>\n",
       "      <th>Radio_outlier</th>\n",
       "    </tr>\n",
       "  </thead>\n",
       "  <tbody>\n",
       "    <tr>\n",
       "      <th>0</th>\n",
       "      <td>37.800</td>\n",
       "      <td>0</td>\n",
       "    </tr>\n",
       "    <tr>\n",
       "      <th>1</th>\n",
       "      <td>39.300</td>\n",
       "      <td>0</td>\n",
       "    </tr>\n",
       "    <tr>\n",
       "      <th>2</th>\n",
       "      <td>45.900</td>\n",
       "      <td>1</td>\n",
       "    </tr>\n",
       "    <tr>\n",
       "      <th>3</th>\n",
       "      <td>41.300</td>\n",
       "      <td>0</td>\n",
       "    </tr>\n",
       "    <tr>\n",
       "      <th>4</th>\n",
       "      <td>10.800</td>\n",
       "      <td>0</td>\n",
       "    </tr>\n",
       "  </tbody>\n",
       "</table>\n",
       "</div>"
      ],
      "text/plain": [
       "   Radio  Radio_outlier\n",
       "0 37.800              0\n",
       "1 39.300              0\n",
       "2 45.900              1\n",
       "3 41.300              0\n",
       "4 10.800              0"
      ]
     },
     "execution_count": 26,
     "metadata": {},
     "output_type": "execute_result"
    }
   ],
   "source": [
    "data[['Radio', 'Radio_outlier']].head()"
   ]
  },
  {
   "cell_type": "code",
   "execution_count": 29,
   "metadata": {},
   "outputs": [
    {
     "data": {
      "text/plain": [
       "0    180\n",
       "1     20\n",
       "Name: Radio_outlier, dtype: int64"
      ]
     },
     "execution_count": 29,
     "metadata": {},
     "output_type": "execute_result"
    }
   ],
   "source": [
    "data['Radio_outlier'].value_counts()"
   ]
  },
  {
   "cell_type": "code",
   "execution_count": 30,
   "metadata": {},
   "outputs": [
    {
     "data": {
      "text/plain": [
       "0    180\n",
       "1     20\n",
       "Name: TV_outlier, dtype: int64"
      ]
     },
     "execution_count": 30,
     "metadata": {},
     "output_type": "execute_result"
    }
   ],
   "source": [
    "data['TV_outlier'].value_counts()"
   ]
  },
  {
   "cell_type": "code",
   "execution_count": 31,
   "metadata": {},
   "outputs": [
    {
     "name": "stdout",
     "output_type": "stream",
     "text": [
      "                            OLS Regression Results                            \n",
      "==============================================================================\n",
      "Dep. Variable:                  Sales   R-squared:                       0.297\n",
      "Model:                            OLS   Adj. R-squared:                  0.290\n",
      "Method:                 Least Squares   F-statistic:                     41.76\n",
      "Date:                Thu, 14 Mar 2019   Prob (F-statistic):           7.37e-16\n",
      "Time:                        09:18:53   Log-Likelihood:                -789.63\n",
      "No. Observations:                 200   AIC:                             1583.\n",
      "Df Residuals:                     198   BIC:                             1590.\n",
      "Df Model:                           2                                         \n",
      "Covariance Type:            nonrobust                                         \n",
      "=================================================================================\n",
      "                    coef    std err          t      P>|t|      [0.025      0.975]\n",
      "---------------------------------------------------------------------------------\n",
      "TV_outlier       17.7687      2.833      6.272      0.000      12.182      23.356\n",
      "Radio_outlier    16.9631      2.833      5.987      0.000      11.376      22.550\n",
      "==============================================================================\n",
      "Omnibus:                       20.772   Durbin-Watson:                   0.570\n",
      "Prob(Omnibus):                  0.000   Jarque-Bera (JB):               24.118\n",
      "Skew:                          -0.772   Prob(JB):                     5.79e-06\n",
      "Kurtosis:                       3.715   Cond. No.                         1.11\n",
      "==============================================================================\n",
      "\n",
      "Warnings:\n",
      "[1] Standard Errors assume that the covariance matrix of the errors is correctly specified.\n",
      "0      0.000\n",
      "1      0.000\n",
      "2     16.963\n",
      "3      0.000\n",
      "4      0.000\n",
      "5     16.963\n",
      "6      0.000\n",
      "7      0.000\n",
      "8      0.000\n",
      "9      0.000\n",
      "10     0.000\n",
      "11     0.000\n",
      "12     0.000\n",
      "13     0.000\n",
      "14     0.000\n",
      "15    16.963\n",
      "16     0.000\n",
      "17    17.769\n",
      "18     0.000\n",
      "19     0.000\n",
      "20     0.000\n",
      "21     0.000\n",
      "22     0.000\n",
      "23     0.000\n",
      "24     0.000\n",
      "25    17.769\n",
      "26     0.000\n",
      "27     0.000\n",
      "28     0.000\n",
      "29     0.000\n",
      "       ...  \n",
      "170    0.000\n",
      "171    0.000\n",
      "172    0.000\n",
      "173    0.000\n",
      "174    0.000\n",
      "175   34.732\n",
      "176    0.000\n",
      "177    0.000\n",
      "178   17.769\n",
      "179    0.000\n",
      "180    0.000\n",
      "181    0.000\n",
      "182    0.000\n",
      "183   17.769\n",
      "184    0.000\n",
      "185   16.963\n",
      "186    0.000\n",
      "187    0.000\n",
      "188   17.769\n",
      "189    0.000\n",
      "190    0.000\n",
      "191    0.000\n",
      "192    0.000\n",
      "193    0.000\n",
      "194    0.000\n",
      "195    0.000\n",
      "196    0.000\n",
      "197    0.000\n",
      "198   17.769\n",
      "199    0.000\n",
      "Length: 200, dtype: float64\n"
     ]
    }
   ],
   "source": [
    "X_2 = data[['TV_outlier', 'Radio_outlier']] \n",
    "\n",
    "est = sm.OLS(y, X_2) \n",
    "estres = est.fit() \n",
    "print(estres.summary()) \n",
    "ypred_2 = estres.predict(X_2) \n",
    "print(ypred_2)"
   ]
  },
  {
   "cell_type": "markdown",
   "metadata": {},
   "source": [
    "### The R2 is not strong"
   ]
  },
  {
   "cell_type": "markdown",
   "metadata": {},
   "source": [
    "### Look at residuals"
   ]
  },
  {
   "cell_type": "code",
   "execution_count": 33,
   "metadata": {},
   "outputs": [
    {
     "name": "stdout",
     "output_type": "stream",
     "text": [
      "0     22.100\n",
      "1     10.400\n",
      "2     -7.663\n",
      "3     18.500\n",
      "4     12.900\n",
      "5     -9.763\n",
      "6     11.800\n",
      "7     13.200\n",
      "8      4.800\n",
      "9     10.600\n",
      "10     8.600\n",
      "11    17.400\n",
      "12     9.200\n",
      "13     9.700\n",
      "14    19.000\n",
      "15     5.437\n",
      "16    12.500\n",
      "17     6.631\n",
      "18    11.300\n",
      "19    14.600\n",
      "20    18.000\n",
      "21    12.500\n",
      "22     5.600\n",
      "23    15.500\n",
      "24     9.700\n",
      "25    -5.769\n",
      "26    15.000\n",
      "27    15.900\n",
      "28    18.900\n",
      "29    10.500\n",
      "       ...  \n",
      "170    8.400\n",
      "171   14.500\n",
      "172    7.600\n",
      "173   11.700\n",
      "174   11.500\n",
      "175   -7.732\n",
      "176   20.200\n",
      "177   11.700\n",
      "178   -5.969\n",
      "179   12.600\n",
      "180   10.500\n",
      "181   12.200\n",
      "182    8.700\n",
      "183    8.431\n",
      "184   17.600\n",
      "185    5.637\n",
      "186   10.300\n",
      "187   17.300\n",
      "188   -1.869\n",
      "189    6.700\n",
      "190   10.800\n",
      "191    9.900\n",
      "192    5.900\n",
      "193   19.600\n",
      "194   17.300\n",
      "195    7.600\n",
      "196    9.700\n",
      "197   12.800\n",
      "198    7.731\n",
      "199   13.400\n",
      "Length: 200, dtype: float64\n"
     ]
    }
   ],
   "source": [
    "residual_2 = actual - ypred_2\n",
    "print(residual_2)"
   ]
  },
  {
   "cell_type": "code",
   "execution_count": 34,
   "metadata": {},
   "outputs": [
    {
     "data": {
      "image/png": "[encoded data removed]",
      "text/plain": [
       "<Figure size 432x288 with 1 Axes>"
      ]
     },
     "metadata": {},
     "output_type": "display_data"
    }
   ],
   "source": [
    "plt.hist(residual_2)\n",
    "plt.title('Residual counts')\n",
    "plt.xlabel('Residual')\n",
    "plt.ylabel('Count')\n",
    "plt.show()"
   ]
  },
  {
   "cell_type": "code",
   "execution_count": 35,
   "metadata": {},
   "outputs": [
    {
     "data": {
      "image/png": "[encoded data removed]",
      "text/plain": [
       "<Figure size 432x288 with 1 Axes>"
      ]
     },
     "metadata": {},
     "output_type": "display_data"
    }
   ],
   "source": [
    "plt.scatter(ypred_2, residual_2)\n",
    "plt.xlabel('Predicted')\n",
    "plt.ylabel('Residual')\n",
    "plt.axhline(y=0)\n",
    "plt.title('Residual vs. Predicted')\n",
    "plt.show()"
   ]
  },
  {
   "cell_type": "markdown",
   "metadata": {},
   "source": [
    "### Removing the outlier does not help the model"
   ]
  },
  {
   "cell_type": "markdown",
   "metadata": {},
   "source": [
    "### Transformations"
   ]
  },
  {
   "cell_type": "code",
   "execution_count": 36,
   "metadata": {},
   "outputs": [
    {
     "data": {
      "image/png": "[encoded data removed]",
      "text/plain": [
       "<Figure size 432x288 with 4 Axes>"
      ]
     },
     "metadata": {},
     "output_type": "display_data"
    }
   ],
   "source": [
    "fig = plt.figure()\n",
    "\n",
    "fig.add_subplot(221)\n",
    "plt.hist(data['TV'])\n",
    "plt.title('Raw')\n",
    "\n",
    "fig.add_subplot(222)\n",
    "plt.hist(np.log(data['TV']))\n",
    "plt.title('Log')\n",
    "\n",
    "fig.add_subplot(223)\n",
    "plt.hist(np.sqrt(data['TV']))\n",
    "plt.title('Square root')\n",
    "         \n",
    "fig.add_subplot(224)\n",
    "plt.hist(1/data['TV'])\n",
    "plt.title('Inverse')\n",
    "         \n",
    "plt.show()\n"
   ]
  },
  {
   "cell_type": "code",
   "execution_count": 42,
   "metadata": {},
   "outputs": [],
   "source": [
    "data['TV'] = data['TV'].replace(0, .0001)\n",
    "data['Radio'] = data['Radio'].replace(0, .0001)\n",
    "data['Log_TV'] = (np.log(data['TV']))\n",
    "data['Sqrt_TV'] = (np.sqrt(data['TV']))\n",
    "data['Inverse_TV'] = (1/data['TV'])"
   ]
  },
  {
   "cell_type": "code",
   "execution_count": 43,
   "metadata": {},
   "outputs": [
    {
     "data": {
      "text/plain": [
       "Text(0.5,1,'Inverse')"
      ]
     },
     "execution_count": 43,
     "metadata": {},
     "output_type": "execute_result"
    },
    {
     "data": {
      "image/png": "[encoded data removed]",
      "text/plain": [
       "<Figure size 432x288 with 4 Axes>"
      ]
     },
     "metadata": {},
     "output_type": "display_data"
    }
   ],
   "source": [
    "fig = plt.figure()\n",
    "\n",
    "fig.add_subplot(221)\n",
    "plt.hist(data['Radio'])\n",
    "plt.title('Raw')\n",
    "\n",
    "fig.add_subplot(222)\n",
    "plt.hist(np.sqrt(data['Radio']))\n",
    "plt.title('Sqare Root')\n",
    "\n",
    "fig.add_subplot(223)\n",
    "plt.hist(np.log(data['Radio']))\n",
    "plt.title('Log')\n",
    "\n",
    "\n",
    "fig.add_subplot(224)\n",
    "plt.hist(1/data['Radio'])\n",
    "plt.title('Inverse')"
   ]
  },
  {
   "cell_type": "code",
   "execution_count": 54,
   "metadata": {},
   "outputs": [
    {
     "name": "stdout",
     "output_type": "stream",
     "text": [
      "(0.9440049529075623, 5.197267682888196e-07)\n",
      "(0.9463818073272705, 8.582681516600132e-07)\n",
      "(0.6875836849212646, 4.81378222764329e-19)\n",
      "(0.04414701461791992, 1.8146095008897884e-30)\n"
     ]
    }
   ],
   "source": [
    "print(scipy.stats.shapiro(data['Radio']))\n",
    "print(scipy.stats.shapiro(np.sqrt(data['Radio'])))\n",
    "print(scipy.stats.shapiro(np.log(data['Radio'])))\n",
    "print(scipy.stats.shapiro(1/data['Radio']))"
   ]
  },
  {
   "cell_type": "code",
   "execution_count": 55,
   "metadata": {},
   "outputs": [
    {
     "name": "stdout",
     "output_type": "stream",
     "text": [
      "(0.9495093822479248, 1.6926975376918563e-06)\n",
      "(0.9346348643302917, 8.027988940284558e-08)\n",
      "(0.8279647827148438, 4.1153742875521884e-14)\n",
      "(0.15050655603408813, 3.965617649278688e-29)\n"
     ]
    }
   ],
   "source": [
    "print(scipy.stats.shapiro(data['TV']))\n",
    "print(scipy.stats.shapiro(np.sqrt(data['TV'])))\n",
    "print(scipy.stats.shapiro(np.log(data['TV'])))\n",
    "print(scipy.stats.shapiro(1/data['TV']))"
   ]
  },
  {
   "cell_type": "code",
   "execution_count": 44,
   "metadata": {},
   "outputs": [],
   "source": [
    "data['Sqrt_Radio'] = (np.sqrt(data['Radio']))"
   ]
  },
  {
   "cell_type": "code",
   "execution_count": 56,
   "metadata": {},
   "outputs": [
    {
     "name": "stdout",
     "output_type": "stream",
     "text": [
      "                            OLS Regression Results                            \n",
      "==============================================================================\n",
      "Dep. Variable:                  Sales   R-squared:                       0.985\n",
      "Model:                            OLS   Adj. R-squared:                  0.985\n",
      "Method:                 Least Squares   F-statistic:                     6562.\n",
      "Date:                Thu, 14 Mar 2019   Prob (F-statistic):          1.08e-181\n",
      "Time:                        09:43:01   Log-Likelihood:                -403.93\n",
      "No. Observations:                 200   AIC:                             811.9\n",
      "Df Residuals:                     198   BIC:                             818.5\n",
      "Df Model:                           2                                         \n",
      "Covariance Type:            nonrobust                                         \n",
      "==============================================================================\n",
      "                 coef    std err          t      P>|t|      [0.025      0.975]\n",
      "------------------------------------------------------------------------------\n",
      "TV             0.0465      0.001     35.289      0.000       0.044       0.049\n",
      "Sqrt_Radio     1.5914      0.046     34.264      0.000       1.500       1.683\n",
      "==============================================================================\n",
      "Omnibus:                       18.009   Durbin-Watson:                   2.066\n",
      "Prob(Omnibus):                  0.000   Jarque-Bera (JB):               34.031\n",
      "Skew:                          -0.448   Prob(JB):                     4.08e-08\n",
      "Kurtosis:                       4.811   Cond. No.                         61.0\n",
      "==============================================================================\n",
      "\n",
      "Warnings:\n",
      "[1] Standard Errors assume that the covariance matrix of the errors is correctly specified.\n",
      "0     20.473\n",
      "1     12.043\n",
      "2     11.580\n",
      "3     17.265\n",
      "4     13.629\n",
      "5     11.532\n",
      "6     11.785\n",
      "7     12.629\n",
      "8      2.706\n",
      "9     11.848\n",
      "10     6.903\n",
      "11    17.770\n",
      "12    10.534\n",
      "13     8.917\n",
      "14    18.609\n",
      "15    20.068\n",
      "16    12.777\n",
      "17    23.087\n",
      "18    10.420\n",
      "19    14.623\n",
      "20    18.521\n",
      "21    14.622\n",
      "22     6.959\n",
      "23    17.148\n",
      "24     8.543\n",
      "25    15.190\n",
      "26    15.252\n",
      "27    17.657\n",
      "28    19.842\n",
      "29     9.645\n",
      "       ...  \n",
      "170    7.743\n",
      "171   14.917\n",
      "172    8.045\n",
      "173   12.063\n",
      "174   13.266\n",
      "175   23.992\n",
      "176   20.285\n",
      "177   12.351\n",
      "178   15.268\n",
      "179   12.725\n",
      "180    9.841\n",
      "181   13.849\n",
      "182    6.410\n",
      "183   23.796\n",
      "184   19.135\n",
      "185   20.210\n",
      "186    8.787\n",
      "187   17.403\n",
      "188   19.219\n",
      "189    6.404\n",
      "190   12.037\n",
      "191    8.737\n",
      "192    4.021\n",
      "193   18.062\n",
      "194   16.449\n",
      "195    4.836\n",
      "196    7.899\n",
      "197   13.076\n",
      "198   23.488\n",
      "199   15.449\n",
      "Length: 200, dtype: float64\n"
     ]
    }
   ],
   "source": [
    "X_3 = data[['TV', 'Sqrt_Radio']] \n",
    "\n",
    "est = sm.OLS(y, X_3) \n",
    "estres = est.fit() \n",
    "print(estres.summary()) \n",
    "ypred_3 = estres.predict(X_3) \n",
    "print(ypred_3)"
   ]
  },
  {
   "cell_type": "code",
   "execution_count": 59,
   "metadata": {},
   "outputs": [],
   "source": [
    "residual_3 = actual - ypred_3"
   ]
  },
  {
   "cell_type": "code",
   "execution_count": 60,
   "metadata": {},
   "outputs": [
    {
     "name": "stdout",
     "output_type": "stream",
     "text": [
      "0      1.627\n",
      "1     -1.643\n",
      "2     -2.280\n",
      "3      1.235\n",
      "4     -0.729\n",
      "5     -4.332\n",
      "6      0.015\n",
      "7      0.571\n",
      "8      2.094\n",
      "9     -1.248\n",
      "10     1.697\n",
      "11    -0.370\n",
      "12    -1.334\n",
      "13     0.783\n",
      "14     0.391\n",
      "15     2.332\n",
      "16    -0.277\n",
      "17     1.313\n",
      "18     0.880\n",
      "19    -0.023\n",
      "20    -0.521\n",
      "21    -2.122\n",
      "22    -1.359\n",
      "23    -1.648\n",
      "24     1.157\n",
      "25    -3.190\n",
      "26    -0.252\n",
      "27    -1.757\n",
      "28    -0.942\n",
      "29     0.855\n",
      "       ...  \n",
      "170    0.657\n",
      "171   -0.417\n",
      "172   -0.445\n",
      "173   -0.363\n",
      "174   -1.766\n",
      "175    3.008\n",
      "176   -0.085\n",
      "177   -0.651\n",
      "178   -3.468\n",
      "179   -0.125\n",
      "180    0.659\n",
      "181   -1.649\n",
      "182    2.290\n",
      "183    2.404\n",
      "184   -1.535\n",
      "185    2.390\n",
      "186    1.513\n",
      "187   -0.103\n",
      "188   -3.319\n",
      "189    0.296\n",
      "190   -1.237\n",
      "191    1.163\n",
      "192    1.879\n",
      "193    1.538\n",
      "194    0.851\n",
      "195    2.764\n",
      "196    1.801\n",
      "197   -0.276\n",
      "198    2.012\n",
      "199   -2.049\n",
      "Length: 200, dtype: float64\n"
     ]
    }
   ],
   "source": [
    "print(residual_3)"
   ]
  },
  {
   "cell_type": "code",
   "execution_count": 63,
   "metadata": {},
   "outputs": [
    {
     "data": {
      "image/png": "[encoded data removed]",
      "text/plain": [
       "<Figure size 432x288 with 1 Axes>"
      ]
     },
     "metadata": {},
     "output_type": "display_data"
    }
   ],
   "source": [
    "plt.hist(residual_3)\n",
    "plt.title('Residual counts')\n",
    "plt.xlabel('Residual')\n",
    "plt.ylabel('Count')\n",
    "plt.show()"
   ]
  },
  {
   "cell_type": "code",
   "execution_count": 64,
   "metadata": {},
   "outputs": [
    {
     "data": {
      "image/png": "[encoded data removed]",
      "text/plain": [
       "<Figure size 432x288 with 1 Axes>"
      ]
     },
     "metadata": {},
     "output_type": "display_data"
    }
   ],
   "source": [
    "plt.scatter(ypred_3, residual_3)\n",
    "plt.xlabel('Predicted')\n",
    "plt.ylabel('Residual')\n",
    "plt.axhline(y=0)\n",
    "plt.title('Residual vs. Predicted')\n",
    "plt.show()"
   ]
  },
  {
   "cell_type": "code",
   "execution_count": 67,
   "metadata": {},
   "outputs": [
    {
     "name": "stdout",
     "output_type": "stream",
     "text": [
      "(0.9837928414344788, 0.02110707387328148)\n",
      "(0.9770374894142151, 0.002305384259670973)\n",
      "(0.9529919624328613, 3.706066991071566e-06)\n",
      "(0.9787420630455017, 0.003958761226385832)\n"
     ]
    }
   ],
   "source": [
    "print(scipy.stats.shapiro(residual))\n",
    "print(scipy.stats.shapiro(residual_1))\n",
    "print(scipy.stats.shapiro(residual_2))\n",
    "print(scipy.stats.shapiro(residual_3))"
   ]
  },
  {
   "cell_type": "markdown",
   "metadata": {},
   "source": [
    "### Ulitmately the best model is 'residual_3'  It has the best R2 and t-value"
   ]
  }
 ],
 "metadata": {
  "kernelspec": {
   "display_name": "Python 3",
   "language": "python",
   "name": "python3"
  },
  "language_info": {
   "codemirror_mode": {
    "name": "ipython",
    "version": 3
   },
   "file_extension": ".py",
   "mimetype": "text/x-python",
   "name": "python",
   "nbconvert_exporter": "python",
   "pygments_lexer": "ipython3",
   "version": "3.6.5"
  }
 },
 "nbformat": 4,
 "nbformat_minor": 2
}
