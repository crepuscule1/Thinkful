{
 "cells": [
  {
   "cell_type": "markdown",
   "metadata": {},
   "source": [
    "\n",
    "## Thinkful Capstone Analytic Report and Research Proposal\n",
    "**by: Dena Montague**\n",
    "\n",
    "### Description of Dataset\n",
    "\n",
    "NATO responded to the 9/11 attacks by implementing its collective defense mandate, in addition to leading a UN mandated International Security Assistance Force in Afghanistan from 2003 to 2014.  29 countries make up NATO.  The US, UK, France and Germany are the most important founding members of NATO. As such, they have been influential in shaping NATO’s presence in Afghanistan.  \n",
    "\n",
    "These countries came together for collective defense as outlined by NATO’s mission, but what has been each country’s role in collective humanitarianism?  The estimated number of displaced Afghans is 3, 700,000.   \n",
    "**This project asks, what has been the role of the UK, US, France and Germany in receiving refugees from Afghanistan?**\n",
    "\n",
    "**To answer this question I analyzed the number of refugees who have residence or asylum in each country.**\n",
    "\n",
    "This UN Data set from the United National High Commissioner for Refugees (UNHCR) provides data on the location of refugees around the world along with the country of origin of the refugees and the year the data was calculated.  The purpose of the data is to provide information and understand global trends to allow for thoughtful public debate and decision-making considering these vulnerable populations.  The data covers the time period of 1975 to 2016\n",
    "\n",
    "According to the data Refugees fall into two categories -\n",
    "**1)‘Refugees’ defined as:\n",
    " “Persons recognized as refugees under the 1951 UN Convention/1967 Protocol, the 1969 OAU Convention, in accordance with the UNHCR Statue, persons granted a complementary form of protection and those granted temporary protection.\"** \n",
    "\n",
    "2) Refugees and people in refugee-like situations:\n",
    "“…includes groups of persons who are outside their country or territory of origin and who face protection risks similar to those of refugees, but for whom refugee status has, for practical or other reasons, not been ascertained.  \n",
    "\n",
    "**I analyzed the data using definition #1. I selected the time period 2006-2016 because it begins a few years into the war and ends two years after the end of NATO engagement.  This time period captures the height of NATO engagement and illustrates the continued role of NATO countries after the end of their mandate.**\n",
    "\n"
   ]
  },
  {
   "cell_type": "code",
   "execution_count": 1,
   "metadata": {},
   "outputs": [],
   "source": [
    "import pandas as pd\n",
    "import numpy as np\n",
    "import matplotlib.pyplot as plt\n",
    "%matplotlib inline\n",
    "import seaborn as sns\n",
    "from scipy.stats import ttest_ind"
   ]
  },
  {
   "cell_type": "code",
   "execution_count": 2,
   "metadata": {},
   "outputs": [
    {
     "name": "stdout",
     "output_type": "stream",
     "text": [
      "      Country or territory of asylum or residence  \\\n",
      "0                                     Afghanistan   \n",
      "1                                     Afghanistan   \n",
      "2                                     Afghanistan   \n",
      "3                                         Albania   \n",
      "4                                         Albania   \n",
      "5                                         Albania   \n",
      "6                                         Albania   \n",
      "7                                         Albania   \n",
      "8                                         Albania   \n",
      "9                                         Albania   \n",
      "10                                        Albania   \n",
      "11                                        Albania   \n",
      "12                                        Albania   \n",
      "13                                        Albania   \n",
      "14                                        Albania   \n",
      "15                                        Albania   \n",
      "16                                        Albania   \n",
      "17                                        Albania   \n",
      "18                                        Algeria   \n",
      "19                                        Algeria   \n",
      "20                                        Algeria   \n",
      "21                                        Algeria   \n",
      "22                                        Algeria   \n",
      "23                                        Algeria   \n",
      "24                                        Algeria   \n",
      "25                                        Algeria   \n",
      "26                                        Algeria   \n",
      "27                                        Algeria   \n",
      "28                                        Algeria   \n",
      "29                                        Algeria   \n",
      "...                                           ...   \n",
      "96034                                      Uganda   \n",
      "96035                                      Uganda   \n",
      "96036                              United Kingdom   \n",
      "96037                     United Rep. of Tanzania   \n",
      "96038                     United Rep. of Tanzania   \n",
      "96039                     United Rep. of Tanzania   \n",
      "96040                     United Rep. of Tanzania   \n",
      "96041                     United Rep. of Tanzania   \n",
      "96042                     United Rep. of Tanzania   \n",
      "96043                     United Rep. of Tanzania   \n",
      "96044                     United Rep. of Tanzania   \n",
      "96045                     United Rep. of Tanzania   \n",
      "96046                               United States   \n",
      "96047                                     Various   \n",
      "96048                                     Various   \n",
      "96049                                      Zambia   \n",
      "96050                                      Zambia   \n",
      "96051                                      Zambia   \n",
      "96052                                      Zambia   \n",
      "96053                                      Zambia   \n",
      "96054                                      Zambia   \n",
      "96055                                      Zambia   \n",
      "96056                                      Zambia   \n",
      "96057                                      Zambia   \n",
      "96058                                      Zambia   \n",
      "96059                                      Zambia   \n",
      "96060                                      Zambia   \n",
      "96061                                     fnSeqID   \n",
      "96062                                           *   \n",
      "96063                                          **   \n",
      "\n",
      "                          Country or territory of origin    Year  \\\n",
      "0                                                   Iraq  2016.0   \n",
      "1                                   Islamic Rep. of Iran  2016.0   \n",
      "2                                               Pakistan  2016.0   \n",
      "3                                                  China  2016.0   \n",
      "4                                 Dem. Rep. of the Congo  2016.0   \n",
      "5                                                  Egypt  2016.0   \n",
      "6                                                   Iraq  2016.0   \n",
      "7                                   Islamic Rep. of Iran  2016.0   \n",
      "8                                             Montenegro  2016.0   \n",
      "9                                                   Peru  2016.0   \n",
      "10                                    Russian Federation  2016.0   \n",
      "11                Serbia (and Kosovo: S/RES/1244 (1999))  2016.0   \n",
      "12                                    State of Palestine  2016.0   \n",
      "13                                      Syrian Arab Rep.  2016.0   \n",
      "14                 The former Yugoslav Rep. of Macedonia  2016.0   \n",
      "15                                                Turkey  2016.0   \n",
      "16                                               Ukraine  2016.0   \n",
      "17                                            Uzbekistan  2016.0   \n",
      "18                                           Afghanistan  2016.0   \n",
      "19                                               Burundi  2016.0   \n",
      "20                                              Cameroon  2016.0   \n",
      "21                                  Central African Rep.  2016.0   \n",
      "22                                                  Chad  2016.0   \n",
      "23                                         Côte d'Ivoire  2016.0   \n",
      "24                                Dem. Rep. of the Congo  2016.0   \n",
      "25                                               Eritrea  2016.0   \n",
      "26                                                Guinea  2016.0   \n",
      "27                                                  Iraq  2016.0   \n",
      "28                                               Liberia  2016.0   \n",
      "29                                                 Libya  2016.0   \n",
      "...                                                  ...     ...   \n",
      "96034                                             Rwanda  1975.0   \n",
      "96035                                            Various  1975.0   \n",
      "96036                                            Various  1975.0   \n",
      "96037                                            Burundi  1975.0   \n",
      "96038                             Dem. Rep. of the Congo  1975.0   \n",
      "96039                                             Malawi  1975.0   \n",
      "96040                                         Mozambique  1975.0   \n",
      "96041                                             Rwanda  1975.0   \n",
      "96042                                       South Africa  1975.0   \n",
      "96043                                             Uganda  1975.0   \n",
      "96044                                            Various  1975.0   \n",
      "96045                                           Zimbabwe  1975.0   \n",
      "96046                                            Various  1975.0   \n",
      "96047                                             Angola  1975.0   \n",
      "96048                                            Various  1975.0   \n",
      "96049                                             Angola  1975.0   \n",
      "96050                                              Congo  1975.0   \n",
      "96051                             Dem. Rep. of the Congo  1975.0   \n",
      "96052                                           Ethiopia  1975.0   \n",
      "96053                                              Kenya  1975.0   \n",
      "96054                                            Lesotho  1975.0   \n",
      "96055                                             Malawi  1975.0   \n",
      "96056                                         Mozambique  1975.0   \n",
      "96057                                            Namibia  1975.0   \n",
      "96058                                            Somalia  1975.0   \n",
      "96059                                       South Africa  1975.0   \n",
      "96060                                             Uganda  1975.0   \n",
      "96061                                           Footnote     NaN   \n",
      "96062  Persons recognized as refugees under the 1951 ...     NaN   \n",
      "96063  The category of people in refugee-like situati...     NaN   \n",
      "\n",
      "       Refugees<sup>*</sup>  Refugees assisted by UNHCR  \\\n",
      "0                       1.0                         1.0   \n",
      "1                      33.0                        33.0   \n",
      "2                   59737.0                     59737.0   \n",
      "3                      11.0                        11.0   \n",
      "4                       3.0                         3.0   \n",
      "5                       3.0                         3.0   \n",
      "6                      23.0                        23.0   \n",
      "7                      17.0                        17.0   \n",
      "8                       2.0                         2.0   \n",
      "9                       1.0                         1.0   \n",
      "10                      1.0                         1.0   \n",
      "11                     60.0                        60.0   \n",
      "12                      4.0                         4.0   \n",
      "13                      3.0                         3.0   \n",
      "14                      1.0                         NaN   \n",
      "15                      4.0                         4.0   \n",
      "16                      1.0                         1.0   \n",
      "17                      4.0                         4.0   \n",
      "18                      2.0                         2.0   \n",
      "19                      1.0                         1.0   \n",
      "20                     14.0                        14.0   \n",
      "21                     47.0                        47.0   \n",
      "22                      1.0                         1.0   \n",
      "23                     36.0                        36.0   \n",
      "24                     40.0                        40.0   \n",
      "25                      1.0                         1.0   \n",
      "26                      1.0                         1.0   \n",
      "27                     13.0                        13.0   \n",
      "28                      1.0                         1.0   \n",
      "29                     16.0                        16.0   \n",
      "...                     ...                         ...   \n",
      "96034               78120.0                         NaN   \n",
      "96035                  60.0                         NaN   \n",
      "96036              153000.0                         NaN   \n",
      "96037              110540.0                         NaN   \n",
      "96038                 400.0                         NaN   \n",
      "96039                  80.0                         NaN   \n",
      "96040               33700.0                         NaN   \n",
      "96041               23100.0                         NaN   \n",
      "96042                  60.0                         NaN   \n",
      "96043                2300.0                         NaN   \n",
      "96044                 900.0                         NaN   \n",
      "96045                  80.0                         NaN   \n",
      "96046              530000.0                         NaN   \n",
      "96047                5000.0                         NaN   \n",
      "96048              749120.0                         NaN   \n",
      "96049               30040.0                         NaN   \n",
      "96050                 110.0                         NaN   \n",
      "96051                  60.0                         NaN   \n",
      "96052                 110.0                         NaN   \n",
      "96053                  90.0                         NaN   \n",
      "96054                 120.0                         NaN   \n",
      "96055                 270.0                         NaN   \n",
      "96056                 450.0                         NaN   \n",
      "96057                3720.0                         NaN   \n",
      "96058                 110.0                         NaN   \n",
      "96059                 760.0                         NaN   \n",
      "96060                 210.0                         NaN   \n",
      "96061                   NaN                         NaN   \n",
      "96062                   NaN                         NaN   \n",
      "96063                   NaN                         NaN   \n",
      "\n",
      "       Total refugees and people in refugee-like situations<sup>**</sup>  \\\n",
      "0                                                    1.0                   \n",
      "1                                                   33.0                   \n",
      "2                                                59737.0                   \n",
      "3                                                   11.0                   \n",
      "4                                                    3.0                   \n",
      "5                                                    3.0                   \n",
      "6                                                   23.0                   \n",
      "7                                                   17.0                   \n",
      "8                                                    2.0                   \n",
      "9                                                    1.0                   \n",
      "10                                                   1.0                   \n",
      "11                                                  60.0                   \n",
      "12                                                   4.0                   \n",
      "13                                                   3.0                   \n",
      "14                                                   1.0                   \n",
      "15                                                   4.0                   \n",
      "16                                                   1.0                   \n",
      "17                                                   4.0                   \n",
      "18                                                   2.0                   \n",
      "19                                                   1.0                   \n",
      "20                                                  14.0                   \n",
      "21                                                  47.0                   \n",
      "22                                                   1.0                   \n",
      "23                                                  36.0                   \n",
      "24                                                  40.0                   \n",
      "25                                                   1.0                   \n",
      "26                                                   1.0                   \n",
      "27                                                  13.0                   \n",
      "28                                                   1.0                   \n",
      "29                                                  16.0                   \n",
      "...                                                  ...                   \n",
      "96034                                            78120.0                   \n",
      "96035                                               60.0                   \n",
      "96036                                           153000.0                   \n",
      "96037                                           110540.0                   \n",
      "96038                                              400.0                   \n",
      "96039                                               80.0                   \n",
      "96040                                            33700.0                   \n",
      "96041                                            23100.0                   \n",
      "96042                                               60.0                   \n",
      "96043                                             2300.0                   \n",
      "96044                                              900.0                   \n",
      "96045                                               80.0                   \n",
      "96046                                           530000.0                   \n",
      "96047                                             5000.0                   \n",
      "96048                                           749120.0                   \n",
      "96049                                            30040.0                   \n",
      "96050                                              110.0                   \n",
      "96051                                               60.0                   \n",
      "96052                                              110.0                   \n",
      "96053                                               90.0                   \n",
      "96054                                              120.0                   \n",
      "96055                                              270.0                   \n",
      "96056                                              450.0                   \n",
      "96057                                             3720.0                   \n",
      "96058                                              110.0                   \n",
      "96059                                              760.0                   \n",
      "96060                                              210.0                   \n",
      "96061                                                NaN                   \n",
      "96062                                                NaN                   \n",
      "96063                                                NaN                   \n",
      "\n",
      "       Total refugees and people in refugee-like situations assisted by UNHCR  \n",
      "0                                                    1.0                       \n",
      "1                                                   33.0                       \n",
      "2                                                59737.0                       \n",
      "3                                                   11.0                       \n",
      "4                                                    3.0                       \n",
      "5                                                    3.0                       \n",
      "6                                                   23.0                       \n",
      "7                                                   17.0                       \n",
      "8                                                    2.0                       \n",
      "9                                                    1.0                       \n",
      "10                                                   1.0                       \n",
      "11                                                  60.0                       \n",
      "12                                                   4.0                       \n",
      "13                                                   3.0                       \n",
      "14                                                   NaN                       \n",
      "15                                                   4.0                       \n",
      "16                                                   1.0                       \n",
      "17                                                   4.0                       \n",
      "18                                                   2.0                       \n",
      "19                                                   1.0                       \n",
      "20                                                  14.0                       \n",
      "21                                                  47.0                       \n",
      "22                                                   1.0                       \n",
      "23                                                  36.0                       \n",
      "24                                                  40.0                       \n",
      "25                                                   1.0                       \n",
      "26                                                   1.0                       \n",
      "27                                                  13.0                       \n",
      "28                                                   1.0                       \n",
      "29                                                  16.0                       \n",
      "...                                                  ...                       \n",
      "96034                                                NaN                       \n",
      "96035                                                NaN                       \n",
      "96036                                                NaN                       \n",
      "96037                                                NaN                       \n",
      "96038                                                NaN                       \n",
      "96039                                                NaN                       \n",
      "96040                                                NaN                       \n",
      "96041                                                NaN                       \n",
      "96042                                                NaN                       \n",
      "96043                                                NaN                       \n",
      "96044                                                NaN                       \n",
      "96045                                                NaN                       \n",
      "96046                                                NaN                       \n",
      "96047                                                NaN                       \n",
      "96048                                                NaN                       \n",
      "96049                                                NaN                       \n",
      "96050                                                NaN                       \n",
      "96051                                                NaN                       \n",
      "96052                                                NaN                       \n",
      "96053                                                NaN                       \n",
      "96054                                                NaN                       \n",
      "96055                                                NaN                       \n",
      "96056                                                NaN                       \n",
      "96057                                                NaN                       \n",
      "96058                                                NaN                       \n",
      "96059                                                NaN                       \n",
      "96060                                                NaN                       \n",
      "96061                                                NaN                       \n",
      "96062                                                NaN                       \n",
      "96063                                                NaN                       \n",
      "\n",
      "[96064 rows x 7 columns]\n"
     ]
    }
   ],
   "source": [
    "df = pd.read_csv('~/UNdata_refugees.csv')\n",
    "print(df)"
   ]
  },
  {
   "cell_type": "code",
   "execution_count": 3,
   "metadata": {},
   "outputs": [],
   "source": [
    "df.columns = ['Country_of_residence', 'Country_of_origin', 'Year', 'Refugees','Refugees_assisted', 'Refugee_like','Refugee_like assisted']"
   ]
  },
  {
   "cell_type": "code",
   "execution_count": 4,
   "metadata": {},
   "outputs": [
    {
     "data": {
      "text/html": [
       "<div>\n",
       "<style scoped>\n",
       "    .dataframe tbody tr th:only-of-type {\n",
       "        vertical-align: middle;\n",
       "    }\n",
       "\n",
       "    .dataframe tbody tr th {\n",
       "        vertical-align: top;\n",
       "    }\n",
       "\n",
       "    .dataframe thead th {\n",
       "        text-align: right;\n",
       "    }\n",
       "</style>\n",
       "<table border=\"1\" class=\"dataframe\">\n",
       "  <thead>\n",
       "    <tr style=\"text-align: right;\">\n",
       "      <th></th>\n",
       "      <th>Country_of_residence</th>\n",
       "      <th>Country_of_origin</th>\n",
       "      <th>Year</th>\n",
       "      <th>Refugees</th>\n",
       "      <th>Refugees_assisted</th>\n",
       "      <th>Refugee_like</th>\n",
       "      <th>Refugee_like assisted</th>\n",
       "    </tr>\n",
       "  </thead>\n",
       "  <tbody>\n",
       "    <tr>\n",
       "      <th>0</th>\n",
       "      <td>Afghanistan</td>\n",
       "      <td>Iraq</td>\n",
       "      <td>2016.0</td>\n",
       "      <td>1.0</td>\n",
       "      <td>1.0</td>\n",
       "      <td>1.0</td>\n",
       "      <td>1.0</td>\n",
       "    </tr>\n",
       "    <tr>\n",
       "      <th>1</th>\n",
       "      <td>Afghanistan</td>\n",
       "      <td>Islamic Rep. of Iran</td>\n",
       "      <td>2016.0</td>\n",
       "      <td>33.0</td>\n",
       "      <td>33.0</td>\n",
       "      <td>33.0</td>\n",
       "      <td>33.0</td>\n",
       "    </tr>\n",
       "    <tr>\n",
       "      <th>2</th>\n",
       "      <td>Afghanistan</td>\n",
       "      <td>Pakistan</td>\n",
       "      <td>2016.0</td>\n",
       "      <td>59737.0</td>\n",
       "      <td>59737.0</td>\n",
       "      <td>59737.0</td>\n",
       "      <td>59737.0</td>\n",
       "    </tr>\n",
       "  </tbody>\n",
       "</table>\n",
       "</div>"
      ],
      "text/plain": [
       "  Country_of_residence     Country_of_origin    Year  Refugees  \\\n",
       "0          Afghanistan                  Iraq  2016.0       1.0   \n",
       "1          Afghanistan  Islamic Rep. of Iran  2016.0      33.0   \n",
       "2          Afghanistan              Pakistan  2016.0   59737.0   \n",
       "\n",
       "   Refugees_assisted  Refugee_like  Refugee_like assisted  \n",
       "0                1.0           1.0                    1.0  \n",
       "1               33.0          33.0                   33.0  \n",
       "2            59737.0       59737.0                59737.0  "
      ]
     },
     "execution_count": 4,
     "metadata": {},
     "output_type": "execute_result"
    }
   ],
   "source": [
    "df.head(3)"
   ]
  },
  {
   "cell_type": "code",
   "execution_count": 5,
   "metadata": {},
   "outputs": [],
   "source": [
    "df.replace('United States', 'US', inplace=True)"
   ]
  },
  {
   "cell_type": "code",
   "execution_count": 6,
   "metadata": {},
   "outputs": [],
   "source": [
    "df.replace('United Kingdom', 'UK', inplace=True)"
   ]
  },
  {
   "cell_type": "code",
   "execution_count": 7,
   "metadata": {
    "scrolled": true
   },
   "outputs": [],
   "source": [
    "Countries = df[(df['Year'] >= 2006) & df['Country_of_residence'].isin(['France','US','Germany','UK'])]"
   ]
  },
  {
   "cell_type": "code",
   "execution_count": 8,
   "metadata": {},
   "outputs": [
    {
     "data": {
      "text/plain": [
       "Country_of_residence\n",
       "France     1870.267460\n",
       "Germany    3022.306257\n",
       "UK         1471.646205\n",
       "US         1784.765594\n",
       "Name: Refugees, dtype: float64"
      ]
     },
     "execution_count": 8,
     "metadata": {},
     "output_type": "execute_result"
    }
   ],
   "source": [
    "Countries.groupby('Country_of_residence').Refugees.mean()"
   ]
  },
  {
   "cell_type": "code",
   "execution_count": 12,
   "metadata": {},
   "outputs": [
    {
     "data": {
      "text/plain": [
       "Country_of_residence\n",
       "France     2356537.0\n",
       "Germany    5506642.0\n",
       "UK         2229544.0\n",
       "US         3548114.0\n",
       "Name: Refugees, dtype: float64"
      ]
     },
     "execution_count": 12,
     "metadata": {},
     "output_type": "execute_result"
    }
   ],
   "source": [
    "Countries.groupby('Country_of_residence').Refugees.sum()"
   ]
  },
  {
   "cell_type": "code",
   "execution_count": 13,
   "metadata": {},
   "outputs": [
    {
     "data": {
      "text/plain": [
       "Year\n",
       "2006.0    1896444.0\n",
       "2007.0    1311602.0\n",
       "2008.0    1325587.0\n",
       "2009.0    1334985.0\n",
       "2010.0    1297675.0\n",
       "2011.0    1240164.0\n",
       "2012.0    1219424.0\n",
       "2013.0     809771.0\n",
       "2014.0     853693.0\n",
       "2015.0     985510.0\n",
       "2016.0    1365982.0\n",
       "Name: Refugees, dtype: float64"
      ]
     },
     "execution_count": 13,
     "metadata": {},
     "output_type": "execute_result"
    }
   ],
   "source": [
    "Countries.groupby('Year').Refugees.sum()"
   ]
  },
  {
   "cell_type": "code",
   "execution_count": 14,
   "metadata": {},
   "outputs": [
    {
     "data": {
      "text/html": [
       "<div>\n",
       "<style scoped>\n",
       "    .dataframe tbody tr th:only-of-type {\n",
       "        vertical-align: middle;\n",
       "    }\n",
       "\n",
       "    .dataframe tbody tr th {\n",
       "        vertical-align: top;\n",
       "    }\n",
       "\n",
       "    .dataframe thead th {\n",
       "        text-align: right;\n",
       "    }\n",
       "</style>\n",
       "<table border=\"1\" class=\"dataframe\">\n",
       "  <thead>\n",
       "    <tr style=\"text-align: right;\">\n",
       "      <th></th>\n",
       "      <th>count</th>\n",
       "      <th>mean</th>\n",
       "      <th>std</th>\n",
       "      <th>min</th>\n",
       "      <th>25%</th>\n",
       "      <th>50%</th>\n",
       "      <th>75%</th>\n",
       "      <th>max</th>\n",
       "    </tr>\n",
       "    <tr>\n",
       "      <th>Year</th>\n",
       "      <th></th>\n",
       "      <th></th>\n",
       "      <th></th>\n",
       "      <th></th>\n",
       "      <th></th>\n",
       "      <th></th>\n",
       "      <th></th>\n",
       "      <th></th>\n",
       "    </tr>\n",
       "  </thead>\n",
       "  <tbody>\n",
       "    <tr>\n",
       "      <th>2006.0</th>\n",
       "      <td>573.0</td>\n",
       "      <td>3309.675393</td>\n",
       "      <td>12886.206244</td>\n",
       "      <td>1.0</td>\n",
       "      <td>15.0</td>\n",
       "      <td>134.0</td>\n",
       "      <td>1238.0</td>\n",
       "      <td>175579.0</td>\n",
       "    </tr>\n",
       "    <tr>\n",
       "      <th>2007.0</th>\n",
       "      <td>581.0</td>\n",
       "      <td>2257.490534</td>\n",
       "      <td>10044.698452</td>\n",
       "      <td>1.0</td>\n",
       "      <td>14.0</td>\n",
       "      <td>127.0</td>\n",
       "      <td>1061.0</td>\n",
       "      <td>169616.0</td>\n",
       "    </tr>\n",
       "    <tr>\n",
       "      <th>2008.0</th>\n",
       "      <td>581.0</td>\n",
       "      <td>2281.561102</td>\n",
       "      <td>9942.337343</td>\n",
       "      <td>1.0</td>\n",
       "      <td>13.0</td>\n",
       "      <td>128.0</td>\n",
       "      <td>1012.0</td>\n",
       "      <td>161919.0</td>\n",
       "    </tr>\n",
       "    <tr>\n",
       "      <th>2009.0</th>\n",
       "      <td>572.0</td>\n",
       "      <td>2333.889860</td>\n",
       "      <td>9117.450578</td>\n",
       "      <td>1.0</td>\n",
       "      <td>12.0</td>\n",
       "      <td>145.5</td>\n",
       "      <td>1018.0</td>\n",
       "      <td>123700.0</td>\n",
       "    </tr>\n",
       "    <tr>\n",
       "      <th>2010.0</th>\n",
       "      <td>563.0</td>\n",
       "      <td>2304.928952</td>\n",
       "      <td>8924.766464</td>\n",
       "      <td>1.0</td>\n",
       "      <td>12.0</td>\n",
       "      <td>150.0</td>\n",
       "      <td>974.0</td>\n",
       "      <td>122340.0</td>\n",
       "    </tr>\n",
       "    <tr>\n",
       "      <th>2011.0</th>\n",
       "      <td>601.0</td>\n",
       "      <td>2063.500832</td>\n",
       "      <td>7984.337540</td>\n",
       "      <td>1.0</td>\n",
       "      <td>12.0</td>\n",
       "      <td>120.0</td>\n",
       "      <td>858.0</td>\n",
       "      <td>110455.0</td>\n",
       "    </tr>\n",
       "    <tr>\n",
       "      <th>2012.0</th>\n",
       "      <td>613.0</td>\n",
       "      <td>1989.272431</td>\n",
       "      <td>7858.865776</td>\n",
       "      <td>1.0</td>\n",
       "      <td>12.0</td>\n",
       "      <td>119.0</td>\n",
       "      <td>844.0</td>\n",
       "      <td>113809.0</td>\n",
       "    </tr>\n",
       "    <tr>\n",
       "      <th>2013.0</th>\n",
       "      <td>603.0</td>\n",
       "      <td>1342.903814</td>\n",
       "      <td>4776.967185</td>\n",
       "      <td>1.0</td>\n",
       "      <td>11.0</td>\n",
       "      <td>78.0</td>\n",
       "      <td>603.0</td>\n",
       "      <td>65558.0</td>\n",
       "    </tr>\n",
       "    <tr>\n",
       "      <th>2014.0</th>\n",
       "      <td>628.0</td>\n",
       "      <td>1359.383758</td>\n",
       "      <td>5208.232704</td>\n",
       "      <td>1.0</td>\n",
       "      <td>9.0</td>\n",
       "      <td>66.0</td>\n",
       "      <td>529.0</td>\n",
       "      <td>71902.0</td>\n",
       "    </tr>\n",
       "    <tr>\n",
       "      <th>2015.0</th>\n",
       "      <td>629.0</td>\n",
       "      <td>1566.788553</td>\n",
       "      <td>7033.080167</td>\n",
       "      <td>1.0</td>\n",
       "      <td>9.0</td>\n",
       "      <td>63.0</td>\n",
       "      <td>533.0</td>\n",
       "      <td>115604.0</td>\n",
       "    </tr>\n",
       "    <tr>\n",
       "      <th>2016.0</th>\n",
       "      <td>641.0</td>\n",
       "      <td>2131.017161</td>\n",
       "      <td>16083.199379</td>\n",
       "      <td>1.0</td>\n",
       "      <td>8.0</td>\n",
       "      <td>54.0</td>\n",
       "      <td>559.0</td>\n",
       "      <td>375122.0</td>\n",
       "    </tr>\n",
       "  </tbody>\n",
       "</table>\n",
       "</div>"
      ],
      "text/plain": [
       "        count         mean           std  min   25%    50%     75%       max\n",
       "Year                                                                        \n",
       "2006.0  573.0  3309.675393  12886.206244  1.0  15.0  134.0  1238.0  175579.0\n",
       "2007.0  581.0  2257.490534  10044.698452  1.0  14.0  127.0  1061.0  169616.0\n",
       "2008.0  581.0  2281.561102   9942.337343  1.0  13.0  128.0  1012.0  161919.0\n",
       "2009.0  572.0  2333.889860   9117.450578  1.0  12.0  145.5  1018.0  123700.0\n",
       "2010.0  563.0  2304.928952   8924.766464  1.0  12.0  150.0   974.0  122340.0\n",
       "2011.0  601.0  2063.500832   7984.337540  1.0  12.0  120.0   858.0  110455.0\n",
       "2012.0  613.0  1989.272431   7858.865776  1.0  12.0  119.0   844.0  113809.0\n",
       "2013.0  603.0  1342.903814   4776.967185  1.0  11.0   78.0   603.0   65558.0\n",
       "2014.0  628.0  1359.383758   5208.232704  1.0   9.0   66.0   529.0   71902.0\n",
       "2015.0  629.0  1566.788553   7033.080167  1.0   9.0   63.0   533.0  115604.0\n",
       "2016.0  641.0  2131.017161  16083.199379  1.0   8.0   54.0   559.0  375122.0"
      ]
     },
     "execution_count": 14,
     "metadata": {},
     "output_type": "execute_result"
    }
   ],
   "source": [
    "Countries.groupby('Year').Refugees.describe()"
   ]
  },
  {
   "cell_type": "code",
   "execution_count": 15,
   "metadata": {},
   "outputs": [
    {
     "data": {
      "text/html": [
       "<div>\n",
       "<style scoped>\n",
       "    .dataframe tbody tr th:only-of-type {\n",
       "        vertical-align: middle;\n",
       "    }\n",
       "\n",
       "    .dataframe tbody tr th {\n",
       "        vertical-align: top;\n",
       "    }\n",
       "\n",
       "    .dataframe thead th {\n",
       "        text-align: right;\n",
       "    }\n",
       "</style>\n",
       "<table border=\"1\" class=\"dataframe\">\n",
       "  <thead>\n",
       "    <tr style=\"text-align: right;\">\n",
       "      <th></th>\n",
       "      <th>count</th>\n",
       "      <th>mean</th>\n",
       "      <th>std</th>\n",
       "      <th>min</th>\n",
       "      <th>25%</th>\n",
       "      <th>50%</th>\n",
       "      <th>75%</th>\n",
       "      <th>max</th>\n",
       "    </tr>\n",
       "    <tr>\n",
       "      <th>Country_of_residence</th>\n",
       "      <th></th>\n",
       "      <th></th>\n",
       "      <th></th>\n",
       "      <th></th>\n",
       "      <th></th>\n",
       "      <th></th>\n",
       "      <th></th>\n",
       "      <th></th>\n",
       "    </tr>\n",
       "  </thead>\n",
       "  <tbody>\n",
       "    <tr>\n",
       "      <th>France</th>\n",
       "      <td>1260.0</td>\n",
       "      <td>1870.267460</td>\n",
       "      <td>5470.705266</td>\n",
       "      <td>1.0</td>\n",
       "      <td>29.75</td>\n",
       "      <td>210.5</td>\n",
       "      <td>1277.25</td>\n",
       "      <td>77661.0</td>\n",
       "    </tr>\n",
       "    <tr>\n",
       "      <th>Germany</th>\n",
       "      <td>1822.0</td>\n",
       "      <td>3022.306257</td>\n",
       "      <td>15147.421627</td>\n",
       "      <td>1.0</td>\n",
       "      <td>11.00</td>\n",
       "      <td>95.5</td>\n",
       "      <td>607.00</td>\n",
       "      <td>375122.0</td>\n",
       "    </tr>\n",
       "    <tr>\n",
       "      <th>UK</th>\n",
       "      <td>1515.0</td>\n",
       "      <td>1471.646205</td>\n",
       "      <td>6473.279780</td>\n",
       "      <td>1.0</td>\n",
       "      <td>4.00</td>\n",
       "      <td>31.0</td>\n",
       "      <td>422.00</td>\n",
       "      <td>106780.0</td>\n",
       "    </tr>\n",
       "    <tr>\n",
       "      <th>US</th>\n",
       "      <td>1988.0</td>\n",
       "      <td>1784.765594</td>\n",
       "      <td>6614.087777</td>\n",
       "      <td>1.0</td>\n",
       "      <td>16.00</td>\n",
       "      <td>132.0</td>\n",
       "      <td>1098.50</td>\n",
       "      <td>114615.0</td>\n",
       "    </tr>\n",
       "  </tbody>\n",
       "</table>\n",
       "</div>"
      ],
      "text/plain": [
       "                       count         mean           std  min    25%    50%  \\\n",
       "Country_of_residence                                                         \n",
       "France                1260.0  1870.267460   5470.705266  1.0  29.75  210.5   \n",
       "Germany               1822.0  3022.306257  15147.421627  1.0  11.00   95.5   \n",
       "UK                    1515.0  1471.646205   6473.279780  1.0   4.00   31.0   \n",
       "US                    1988.0  1784.765594   6614.087777  1.0  16.00  132.0   \n",
       "\n",
       "                          75%       max  \n",
       "Country_of_residence                     \n",
       "France                1277.25   77661.0  \n",
       "Germany                607.00  375122.0  \n",
       "UK                     422.00  106780.0  \n",
       "US                    1098.50  114615.0  "
      ]
     },
     "execution_count": 15,
     "metadata": {},
     "output_type": "execute_result"
    }
   ],
   "source": [
    "Countries.groupby('Country_of_residence').Refugees.describe()"
   ]
  },
  {
   "cell_type": "code",
   "execution_count": 16,
   "metadata": {},
   "outputs": [
    {
     "data": {
      "text/plain": [
       "Country_of_residence  Year  \n",
       "France                2006.0    145996.0\n",
       "                      2007.0    151789.0\n",
       "                      2008.0    171206.0\n",
       "                      2009.0    196364.0\n",
       "                      2010.0    200687.0\n",
       "                      2011.0    210207.0\n",
       "                      2012.0    217865.0\n",
       "                      2013.0    232487.0\n",
       "                      2014.0    252264.0\n",
       "                      2015.0    273126.0\n",
       "                      2016.0    304546.0\n",
       "Germany               2006.0    605402.0\n",
       "                      2007.0    578879.0\n",
       "                      2008.0    582735.0\n",
       "                      2009.0    593799.0\n",
       "                      2010.0    594269.0\n",
       "                      2011.0    571684.0\n",
       "                      2012.0    589737.0\n",
       "                      2013.0    187567.0\n",
       "                      2014.0    216973.0\n",
       "                      2015.0    316115.0\n",
       "                      2016.0    669482.0\n",
       "UK                    2006.0    301556.0\n",
       "                      2007.0    299718.0\n",
       "                      2008.0    292097.0\n",
       "                      2009.0    269363.0\n",
       "                      2010.0    238150.0\n",
       "                      2011.0    193510.0\n",
       "                      2012.0    149799.0\n",
       "                      2013.0    126055.0\n",
       "                      2014.0    117234.0\n",
       "                      2015.0    123067.0\n",
       "                      2016.0    118995.0\n",
       "US                    2006.0    843490.0\n",
       "                      2007.0    281216.0\n",
       "                      2008.0    279549.0\n",
       "                      2009.0    275459.0\n",
       "                      2010.0    264569.0\n",
       "                      2011.0    264763.0\n",
       "                      2012.0    262023.0\n",
       "                      2013.0    263662.0\n",
       "                      2014.0    267222.0\n",
       "                      2015.0    273202.0\n",
       "                      2016.0    272959.0\n",
       "Name: Refugees, dtype: float64"
      ]
     },
     "execution_count": 16,
     "metadata": {},
     "output_type": "execute_result"
    }
   ],
   "source": [
    "Countries.groupby(['Country_of_residence','Year']).Refugees.sum()"
   ]
  },
  {
   "cell_type": "code",
   "execution_count": 17,
   "metadata": {},
   "outputs": [
    {
     "data": {
      "text/plain": [
       "2071.501442672741"
      ]
     },
     "execution_count": 17,
     "metadata": {},
     "output_type": "execute_result"
    }
   ],
   "source": [
    "Countries['Refugees'].mean()"
   ]
  },
  {
   "cell_type": "markdown",
   "metadata": {},
   "source": [
    "### Question 1: What is the relative role of the US against these NATO countries together?\n",
    "\n",
    "### Answer: \n",
    "I took the mean of each country’s number of refugees over the specified time period. **On average, Germany accepted the most refugees, followed by France, the US and the UK.** The US took in slighly more refugees on average than the US.  But, looking at the sum of refugees between 2006-2016, Germany has accepted over 5 million refugees, followed by the US with approx. 3.5 million, France with 2.3 million and the UK with 2.2 million.\n",
    "\n",
    "**For the purposes of this project, I define NATO as France, Germany, UK and the US. The mean of refugees accepted by the US (1784) falls  below the mean of the NATO average (2071).**   The NATO average is particularly high because of the role of Germany.\n"
   ]
  },
  {
   "cell_type": "markdown",
   "metadata": {},
   "source": [
    "### Question 2: What is the spread of refugee acceptance? "
   ]
  },
  {
   "cell_type": "code",
   "execution_count": 78,
   "metadata": {},
   "outputs": [
    {
     "name": "stderr",
     "output_type": "stream",
     "text": [
      "/Applications/anaconda3/lib/python3.6/site-packages/matplotlib/axes/_axes.py:6462: UserWarning: The 'normed' kwarg is deprecated, and has been replaced by the 'density' kwarg.\n",
      "  warnings.warn(\"The 'normed' kwarg is deprecated, and has been \"\n"
     ]
    },
    {
     "data": {
      "image/png": "[encoded data removed]",
      "text/plain": [
       "<Figure size 720x360 with 1 Axes>"
      ]
     },
     "metadata": {},
     "output_type": "display_data"
    }
   ],
   "source": [
    "plt.figure(figsize=(10,5))\n",
    "\n",
    "sns.distplot(Countries['Refugees'], bins = 20)\n",
    "plt.xlim(0,70000)\n",
    "plt.title('Distribution of refugees in NATO')\n",
    "plt.show()"
   ]
  },
  {
   "cell_type": "markdown",
   "metadata": {},
   "source": [
    "### Answer:\n",
    "The histogram above shows quite a spread between the level of refugees accepted.  **Most countries in NATO accept less than 10,000 per year.**  "
   ]
  },
  {
   "cell_type": "markdown",
   "metadata": {},
   "source": [
    "### Question 3: Which country accepts the most refugees?  "
   ]
  },
  {
   "cell_type": "code",
   "execution_count": 68,
   "metadata": {},
   "outputs": [
    {
     "data": {
      "image/png": "[encoded data removed]",
      "text/plain": [
       "<Figure size 720x360 with 1 Axes>"
      ]
     },
     "metadata": {},
     "output_type": "display_data"
    }
   ],
   "source": [
    "plt.figure(figsize=(10,5))\n",
    "\n",
    "sns.violinplot(x='Country_of_residence', y='Refugees', data=Countries)\n",
    "plt.title('Refugees from Afghanistan 2006-2016')\n",
    "plt.show()"
   ]
  },
  {
   "cell_type": "markdown",
   "metadata": {},
   "source": [
    "###Answer: \n",
    "This first chart “Refugees from Afghanistan 2006-2016 shows the number of refugees from Afghanistan who are residents or asylum seekers in France, Germany, UK and the US. **The numbers of refugees in Germany is far higher than France, UK and the US.** \n",
    "\n"
   ]
  },
  {
   "cell_type": "code",
   "execution_count": 49,
   "metadata": {},
   "outputs": [],
   "source": [
    "df1 = df[(df['Country_of_residence']=='France')&(df['Year']>=2006)]\n",
    "France_accept = pd.DataFrame(df1)"
   ]
  },
  {
   "cell_type": "code",
   "execution_count": 50,
   "metadata": {},
   "outputs": [],
   "source": [
    "df4 = df[(df['Country_of_residence']=='UK')&(df['Year']>=2006)]\n",
    "UK_accept = pd.DataFrame(df4)"
   ]
  },
  {
   "cell_type": "code",
   "execution_count": 63,
   "metadata": {},
   "outputs": [
    {
     "data": {
      "image/png": "[encoded data removed]",
      "text/plain": [
       "<Figure size 1440x720 with 4 Axes>"
      ]
     },
     "metadata": {},
     "output_type": "display_data"
    }
   ],
   "source": [
    "plt.figure(figsize=(20,10))\n",
    "\n",
    "plt.subplot(2, 2, 1)\n",
    "plt.plot(France_accept['Year'], France_accept['Refugees'], color='purple')\n",
    "plt.ylim(0, 200000)\n",
    "plt.ylabel('Number of Refugees')\n",
    "plt.xlabel('Year')\n",
    "plt.title('France Refugee Acceptance')\n",
    "\n",
    "plt.subplot(2, 2, 2)\n",
    "plt.plot(US_accept['Year'], US_accept['Refugees'], color='green')\n",
    "plt.ylim(0, 200000)\n",
    "plt.ylabel('Number of Refugees')\n",
    "plt.xlabel('Year')\n",
    "plt.title('US Refugee Acceptance')\n",
    "\n",
    "plt.subplot(2, 2, 3)\n",
    "plt.plot(Germany_accept['Year'], Germany_accept['Refugees'], color='red')\n",
    "plt.ylim(0, 200000)\n",
    "plt.ylabel('Number of Refugees')\n",
    "plt.xlabel('Year')\n",
    "plt.title('Germany Refugee Acceptance')\n",
    "\n",
    "plt.subplot(2, 2, 4)\n",
    "plt.plot(UK_accept['Year'], UK_accept['Refugees'], color='black')\n",
    "plt.ylim(0, 200000)\n",
    "plt.ylabel('Number of Refugees')\n",
    "plt.xlabel('Year')\n",
    "plt.title('UK Refugee Acceptance')\n",
    "\n",
    "plt.show()"
   ]
  },
  {
   "cell_type": "markdown",
   "metadata": {},
   "source": [
    "### Answer:\n",
    "\n",
    "The sub-plots above show a breakdown of refugee acceptance by country.  **As of 2016, the number of refugees in the UK is the lowest level among all the NATO countries analyzed in this study.** The UK has seen a substantial decline in the number of refugees received.  The reduction in the number of refugees received seems to have occurred around 2010 and leveled out around 2012, hovering between 9-10,000 refugees per year. France is the most consistent in terms of accepting refugees. Whereas the other countries have accepted over 10,000 refugees in a year, **France has never accepted more than 7685 refugees, which occurred in 2016. The US accepted the most refugees in 2006. Since 2006 the US has consistently received less than 80,000 refugees per year. Germany received the most refugees in 2016.**"
   ]
  },
  {
   "cell_type": "code",
   "execution_count": 47,
   "metadata": {},
   "outputs": [
    {
     "data": {
      "text/plain": [
       "Text(0.5,1,'Refugee Acceptance')"
      ]
     },
     "execution_count": 47,
     "metadata": {},
     "output_type": "execute_result"
    },
    {
     "data": {
      "image/png": "[encoded data removed]",
      "text/plain": [
       "<Figure size 720x360 with 1 Axes>"
      ]
     },
     "metadata": {},
     "output_type": "display_data"
    }
   ],
   "source": [
    "plt.figure(figsize=(10,5))\n",
    "\n",
    "plt.plot(Countries['Year'] , Countries['Refugees'])\n",
    "plt.ylabel('Number of Refugees')\n",
    "plt.xlabel('Year')\n",
    "plt.title('Refugee Acceptance')"
   ]
  },
  {
   "cell_type": "markdown",
   "metadata": {},
   "source": [
    "The chart above show the acceptance level by year.  ***The greatest number of refugees accepted occured in 2016.***"
   ]
  },
  {
   "cell_type": "markdown",
   "metadata": {},
   "source": [
    "### Question 4: What it the difference between US acceptance levels and overall NATO acceptance levels?"
   ]
  },
  {
   "cell_type": "code",
   "execution_count": 69,
   "metadata": {},
   "outputs": [],
   "source": [
    "df2 = df[(df['Country_of_residence']=='US')&(df['Year']>=2006)]\n",
    "US_accept = pd.DataFrame(df2)"
   ]
  },
  {
   "cell_type": "code",
   "execution_count": 28,
   "metadata": {},
   "outputs": [
    {
     "data": {
      "image/png": "[encoded data removed]",
      "text/plain": [
       "<Figure size 720x360 with 1 Axes>"
      ]
     },
     "metadata": {},
     "output_type": "display_data"
    },
    {
     "data": {
      "image/png": "[encoded data removed]",
      "text/plain": [
       "<Figure size 720x360 with 1 Axes>"
      ]
     },
     "metadata": {},
     "output_type": "display_data"
    }
   ],
   "source": [
    "plt.figure(figsize=(10,5))\n",
    "\n",
    "\n",
    "sns.boxplot(x = US_accept['Refugees'], data=df2)\n",
    "plt.xlim(0,350000)\n",
    "plt.title('US acceptance level')\n",
    "plt.show()\n",
    "\n",
    "plt.figure(figsize=(10,5))\n",
    "\n",
    "sns.boxplot(x = Countries['Refugees'], data=df)\n",
    "plt.xlim(0,350000)\n",
    "plt.title('NATO acceptance level')\n",
    "plt.show()"
   ]
  },
  {
   "cell_type": "markdown",
   "metadata": {},
   "source": [
    "### Answer:\n",
    " The two boxplots above show the difference between US acceptance level and the overall accpetance level in NATO.  From these boxplot we see that **the US accepts a significantly lower level of refugees than NATO as a whole.**  "
   ]
  },
  {
   "cell_type": "code",
   "execution_count": 70,
   "metadata": {},
   "outputs": [],
   "source": [
    "df3 = df[(df['Country_of_residence']=='Germany')&(df['Year']>=2006)]\n",
    "Germany_accept = pd.DataFrame(df3)"
   ]
  },
  {
   "cell_type": "markdown",
   "metadata": {},
   "source": [
    "**These final charts visualize the substantial difference between the number of refugees accepted by Germany and the U.S.**"
   ]
  },
  {
   "cell_type": "code",
   "execution_count": 71,
   "metadata": {
    "scrolled": false
   },
   "outputs": [
    {
     "data": {
      "image/png": "[encoded data removed]",
      "text/plain": [
       "<Figure size 1440x720 with 2 Axes>"
      ]
     },
     "metadata": {},
     "output_type": "display_data"
    }
   ],
   "source": [
    "plt.figure(figsize=(20,10))\n",
    "\n",
    "plt.subplot(1, 2, 1)\n",
    "plt.plot(US_accept['Year'], US_accept['Refugees'], color='green')\n",
    "plt.ylim(0, 200000)\n",
    "plt.ylabel('Number of Refugees')\n",
    "plt.xlabel('Year')\n",
    "plt.title('US Refugee Acceptance')\n",
    "\n",
    "plt.subplot(1, 2, 2)\n",
    "plt.plot(Germany_accept['Year'], Germany_accept['Refugees'], color='red')\n",
    "plt.ylim(0, 200000)\n",
    "plt.ylabel('Number of Refugees')\n",
    "plt.xlabel('Year')\n",
    "plt.title('Germany Refugee Acceptance')\n",
    "\n",
    "\n",
    "plt.show()"
   ]
  },
  {
   "cell_type": "code",
   "execution_count": 67,
   "metadata": {},
   "outputs": [
    {
     "name": "stdout",
     "output_type": "stream",
     "text": [
      "Ttest_indResult(statistic=-3.217539687313694, pvalue=0.0013098519987184117)\n"
     ]
    }
   ],
   "source": [
    "print(ttest_ind(US_accept['Refugees'], Germany_accept['Refugees'], equal_var = False))"
   ]
  },
  {
   "cell_type": "markdown",
   "metadata": {},
   "source": [
    "**The t-test shows that the means of US acceptance rate and the acceptance rate of Germany are reliably different from one another.**  The p-value is less than .05"
   ]
  },
  {
   "cell_type": "markdown",
   "metadata": {},
   "source": [
    "**Further research**\n",
    "\n",
    "Considering the war in Afghanistan was started in response to the 9/11 attacks, by analyzing this data several questions emerge.  Primarily, why on average does the U.S. accept fewer refugees from Afghanistan than its NATO allies? Are there particular political considerations that influence the number of refugees accepted?  During this time period, why did Germany increase the number of refuges while the UK and US have reduced the number of refugees and France has shown a slight increase?  Answering these questions requires qualitative analyses of NATO mandates, individual country analysis of political environment etc. as well as quantitative analyses over a longer period of time with a larger N size.  \n"
   ]
  }
 ],
 "metadata": {
  "kernelspec": {
   "display_name": "Python 3",
   "language": "python",
   "name": "python3"
  },
  "language_info": {
   "codemirror_mode": {
    "name": "ipython",
    "version": 3
   },
   "file_extension": ".py",
   "mimetype": "text/x-python",
   "name": "python",
   "nbconvert_exporter": "python",
   "pygments_lexer": "ipython3",
   "version": "3.6.5"
  }
 },
 "nbformat": 4,
 "nbformat_minor": 2
}
